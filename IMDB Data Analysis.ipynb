{
 "cells": [
  {
   "cell_type": "markdown",
   "id": "73bc9548",
   "metadata": {},
   "source": [
    "# Analysis of IMDB Data"
   ]
  },
  {
   "cell_type": "markdown",
   "id": "7679c0c0",
   "metadata": {},
   "source": [
    "We will analyze a subset of IMDB's actors, genres, movie actors, and movie ratings data. This dataset comes to us from Kaggle (https://www.kaggle.com/datasets/ashirwadsangwan/imdb-dataset) although we have taken steps to pull this data into a publis s3 bucket: \n",
    "\n",
    "* s3://cis9760-lecture9-movieanalysis/name.basics.tsv ---> Name Basics\n",
    "* s3://cis9760-lecture9-movieanalysis/title.basics.tsv ---> Title Basics\n",
    "* s3://cis9760-lecture9-movieanalysis/title.principals.tsv ---> Title Principles\n",
    "* s3://cis9760-lecture9-movieanalysis/title.ratings.tsv ---> Title Ratings"
   ]
  },
  {
   "cell_type": "markdown",
   "id": "c1dde3fb",
   "metadata": {},
   "source": [
    "# Content\n",
    "\n",
    "**<br />name.basics.tsv.gz – Contains the following information for names:**\n",
    "<br />nconst (string) - alphanumeric unique identifier of the name/person.\n",
    "<br />primaryName (string)– name by which the person is most often credited.\n",
    "<br />birthYear – in YYYY format.\n",
    "<br />deathYear – in YYYY format if applicable, else .\n",
    "<br />primaryProfession (array of strings)– the top-3 professions of the person.\n",
    "<br />knownForTitles (array of tconsts) – titles the person is known for.\n",
    "<br/><br/>\n",
    "**<br />title.basics.tsv.gz - Contains the following information for titles:**\n",
    "<br />tconst (string) - alphanumeric unique identifier of the title.\n",
    "<br />titleType (string) – the type/format of the title (e.g. movie, short, tvseries, tvepisode, video, etc).\n",
    "<br />primaryTitle (string) – the more popular title / the title used by the filmmakers on promotional materials at the point of release.\n",
    "<br />originalTitle (string) - original title, in the original language.\n",
    "<br />isAdult (boolean) - 0: non-adult title; 1: adult title.\n",
    "<br />startYear (YYYY) – represents the release year of a title. In the case of TV Series, it is the series start year.\n",
    "<br />endYear (YYYY) – TV Series end year. for all other title types.\n",
    "<br />runtimeMinutes – primary runtime of the title, in minutes.\n",
    "<br />genres (string array) – includes up to three genres associated with the title.\n",
    "<br/><br/>\n",
    "**<br />title.principals.tsv – Contains the principal cast/crew for titles:**\n",
    "<br />tconst (string) - alphanumeric unique identifier of the title.\n",
    "<br />ordering (integer) – a number to uniquely identify rows for a given titleId.\n",
    "<br />nconst (string) - alphanumeric unique identifier of the name/person.\n",
    "<br />category (string) - the category of job that person was in.\n",
    "<br />job (string) - the specific job title if applicable, else.\n",
    "<br />characters (string) - the name of the character played if applicable, else.\n",
    "<br/><br/>\n",
    "**<br />title.ratings.tsv.gz – Contains the IMDb rating and votes information for titles:**\n",
    "<br />tconst (string) - alphanumeric unique identifier of the title.\n",
    "<br />averageRating – weighted average of all the individual user ratings.\n",
    "<br />numVotes - number of votes the title has received."
   ]
  },
  {
   "cell_type": "markdown",
   "id": "08416e6e",
   "metadata": {},
   "source": [
    "# PART 1 - Installation and Initial Setup"
   ]
  },
  {
   "cell_type": "markdown",
   "id": "04b07b9f",
   "metadata": {},
   "source": [
    "Begin by installing the necessary libraries that you may need to conduct your analysis. At the very least, you must install pandas and matplotlib"
   ]
  },
  {
   "cell_type": "code",
   "execution_count": 1,
   "id": "e1c4a37e-f8b7-432c-beb1-40a12876d37c",
   "metadata": {
    "execution": {
     "iopub.execute_input": "2023-12-13T19:53:36.530675Z",
     "iopub.status.busy": "2023-12-13T19:53:36.530367Z",
     "iopub.status.idle": "2023-12-13T19:53:37.112792Z",
     "shell.execute_reply": "2023-12-13T19:53:37.111896Z",
     "shell.execute_reply.started": "2023-12-13T19:53:36.530646Z"
    },
    "tags": []
   },
   "outputs": [
    {
     "data": {
      "text/html": [
       "Current session configs: <tt>{'proxyUser': 'user_EMR-User', 'conf': {'spark.pyspark.python': 'python3', 'spark.pyspark.virtualenv.enabled': 'true', 'spark.pyspark.virtualenv.type': 'native', 'spark.pyspark.virtualenv.bin.path': '/usr/bin/virtualenv'}, 'kind': 'pyspark'}</tt><br>"
      ],
      "text/plain": [
       "<IPython.core.display.HTML object>"
      ]
     },
     "metadata": {},
     "output_type": "display_data"
    },
    {
     "data": {
      "text/html": [
       "No active sessions."
      ],
      "text/plain": [
       "<IPython.core.display.HTML object>"
      ]
     },
     "metadata": {},
     "output_type": "display_data"
    }
   ],
   "source": [
    "%%info"
   ]
  },
  {
   "cell_type": "code",
   "execution_count": 1,
   "id": "0c8b0667",
   "metadata": {
    "execution": {
     "iopub.execute_input": "2023-11-02T20:47:33.509510Z",
     "iopub.status.busy": "2023-11-02T20:47:33.509137Z",
     "iopub.status.idle": "2023-11-02T20:47:33.522713Z",
     "shell.execute_reply": "2023-11-02T20:47:33.522031Z",
     "shell.execute_reply.started": "2023-11-02T20:47:33.509475Z"
    },
    "tags": []
   },
   "outputs": [
    {
     "data": {
      "text/html": [
       "Current session configs: <tt>{'proxyUser': 'user_EMR-User', 'conf': {'spark.pyspark.python': 'python3', 'spark.pyspark.virtualenv.enabled': 'true', 'spark.pyspark.virtualenv.type': 'native', 'spark.pyspark.virtualenv.bin.path': '/usr/bin/virtualenv'}, 'kind': 'pyspark'}</tt><br>"
      ],
      "text/plain": [
       "<IPython.core.display.HTML object>"
      ]
     },
     "metadata": {},
     "output_type": "display_data"
    },
    {
     "data": {
      "text/html": [
       "No active sessions."
      ],
      "text/plain": [
       "<IPython.core.display.HTML object>"
      ]
     },
     "metadata": {},
     "output_type": "display_data"
    }
   ],
   "source": []
  },
  {
   "cell_type": "markdown",
   "id": "1fc39c6b",
   "metadata": {},
   "source": [
    "Let's install the necessary packages here"
   ]
  },
  {
   "cell_type": "code",
   "execution_count": 2,
   "id": "0c657c0c-c1aa-48ec-8efb-806f517d8bed",
   "metadata": {
    "execution": {
     "iopub.execute_input": "2023-12-13T19:53:41.665695Z",
     "iopub.status.busy": "2023-12-13T19:53:41.665392Z",
     "iopub.status.idle": "2023-12-13T19:54:54.595254Z",
     "shell.execute_reply": "2023-12-13T19:54:54.594401Z",
     "shell.execute_reply.started": "2023-12-13T19:53:41.665670Z"
    },
    "tags": []
   },
   "outputs": [
    {
     "data": {
      "application/vnd.jupyter.widget-view+json": {
       "model_id": "350c2e275bca4d089a5f80b6ba8b58a9",
       "version_major": 2,
       "version_minor": 0
      },
      "text/plain": [
       "VBox()"
      ]
     },
     "metadata": {},
     "output_type": "display_data"
    },
    {
     "name": "stdout",
     "output_type": "stream",
     "text": [
      "Starting Spark application\n"
     ]
    },
    {
     "data": {
      "text/html": [
       "<table>\n",
       "<tbody><tr><th>ID</th><th>YARN Application ID</th><th>Kind</th><th>State</th><th>Spark UI</th><th>Driver log</th><th>User</th><th>Current session?</th></tr><tr><td>0</td><td>application_1702496925334_0001</td><td>pyspark</td><td>idle</td><td><a target=\"_blank\" href=\"http://ip-172-31-29-156.us-east-2.compute.internal:20888/proxy/application_1702496925334_0001/\" class=\"emr-proxy-link j-2V0PHQUMLRLOZ application_1702496925334_0001\" emr-resource=\"j-2V0PHQUMLRLOZ\n",
       "\" application-id=\"application_1702496925334_0001\">Link</a></td><td><a target=\"_blank\" href=\"http://ip-172-31-22-153.us-east-2.compute.internal:8042/node/containerlogs/container_1702496925334_0001_01_000001/livy\">Link</a></td><td>None</td><td>✔</td></tr></tbody></table>"
      ],
      "text/plain": [
       "<IPython.core.display.HTML object>"
      ]
     },
     "metadata": {},
     "output_type": "display_data"
    },
    {
     "data": {
      "application/vnd.jupyter.widget-view+json": {
       "model_id": "",
       "version_major": 2,
       "version_minor": 0
      },
      "text/plain": [
       "FloatProgress(value=0.0, bar_style='info', description='Progress:', layout=Layout(height='25px', width='50%'),…"
      ]
     },
     "metadata": {},
     "output_type": "display_data"
    },
    {
     "name": "stdout",
     "output_type": "stream",
     "text": [
      "SparkSession available as 'spark'.\n"
     ]
    },
    {
     "data": {
      "application/vnd.jupyter.widget-view+json": {
       "model_id": "",
       "version_major": 2,
       "version_minor": 0
      },
      "text/plain": [
       "FloatProgress(value=0.0, bar_style='info', description='Progress:', layout=Layout(height='25px', width='50%'),…"
      ]
     },
     "metadata": {},
     "output_type": "display_data"
    },
    {
     "name": "stdout",
     "output_type": "stream",
     "text": [
      "Collecting pandas==1.0.5\n",
      "  Downloading pandas-1.0.5-cp37-cp37m-manylinux1_x86_64.whl (10.1 MB)\n",
      "Collecting python-dateutil>=2.6.1\n",
      "  Downloading python_dateutil-2.8.2-py2.py3-none-any.whl (247 kB)\n",
      "Requirement already satisfied: pytz>=2017.2 in /usr/local/lib/python3.7/site-packages (from pandas==1.0.5) (2023.3)\n",
      "Requirement already satisfied: numpy>=1.13.3 in /usr/local/lib64/python3.7/site-packages (from pandas==1.0.5) (1.20.0)\n",
      "Requirement already satisfied: six>=1.5 in /usr/local/lib/python3.7/site-packages (from python-dateutil>=2.6.1->pandas==1.0.5) (1.13.0)\n",
      "Installing collected packages: python-dateutil, pandas\n",
      "Successfully installed pandas-1.0.5 python-dateutil-2.8.2\n",
      "\n",
      "Collecting matplotlib==3.2.1\n",
      "  Downloading matplotlib-3.2.1-cp37-cp37m-manylinux1_x86_64.whl (12.4 MB)\n",
      "Collecting cycler>=0.10\n",
      "  Downloading cycler-0.11.0-py3-none-any.whl (6.4 kB)\n",
      "Collecting pyparsing!=2.0.4,!=2.1.2,!=2.1.6,>=2.0.1\n",
      "  Downloading pyparsing-3.1.1-py3-none-any.whl (103 kB)\n",
      "Requirement already satisfied: numpy>=1.11 in /usr/local/lib64/python3.7/site-packages (from matplotlib==3.2.1) (1.20.0)\n",
      "Requirement already satisfied: python-dateutil>=2.1 in ./tmp/spark-aef38d60-f248-4a68-9a5b-c1cff85ce9c5/lib/python3.7/site-packages (from matplotlib==3.2.1) (2.8.2)\n",
      "Collecting kiwisolver>=1.0.1\n",
      "  Downloading kiwisolver-1.4.5-cp37-cp37m-manylinux_2_5_x86_64.manylinux1_x86_64.whl (1.1 MB)\n",
      "Requirement already satisfied: six>=1.5 in /usr/local/lib/python3.7/site-packages (from python-dateutil>=2.1->matplotlib==3.2.1) (1.13.0)\n",
      "Collecting typing-extensions; python_version < \"3.8\"\n",
      "  Downloading typing_extensions-4.7.1-py3-none-any.whl (33 kB)\n",
      "Installing collected packages: cycler, pyparsing, typing-extensions, kiwisolver, matplotlib\n",
      "Successfully installed cycler-0.11.0 kiwisolver-1.4.5 matplotlib-3.2.1 pyparsing-3.1.1 typing-extensions-4.7.1\n",
      "\n",
      "WARNING: The directory '/home/.cache/pip' or its parent directory is not owned or is not writable by the current user. The cache has been disabled. Check the permissions and owner of that directory. If executing pip with sudo, you may want sudo's -H flag.\n",
      "\n",
      "WARNING: The directory '/home/.cache/pip' or its parent directory is not owned or is not writable by the current user. The cache has been disabled. Check the permissions and owner of that directory. If executing pip with sudo, you may want sudo's -H flag."
     ]
    }
   ],
   "source": [
    "sc.install_pypi_package(\"pandas==1.0.5\")\n",
    "sc.install_pypi_package(\"matplotlib==3.2.1\")"
   ]
  },
  {
   "cell_type": "code",
   "execution_count": 2,
   "id": "e0a576cf",
   "metadata": {
    "execution": {
     "iopub.execute_input": "2023-11-02T20:47:35.765920Z",
     "iopub.status.busy": "2023-11-02T20:47:35.765692Z",
     "iopub.status.idle": "2023-11-02T20:48:23.646415Z",
     "shell.execute_reply": "2023-11-02T20:48:23.645682Z",
     "shell.execute_reply.started": "2023-11-02T20:47:35.765895Z"
    },
    "tags": []
   },
   "outputs": [
    {
     "data": {
      "application/vnd.jupyter.widget-view+json": {
       "model_id": "2e589a8d461e43bfba4e5b339e422f69",
       "version_major": 2,
       "version_minor": 0
      },
      "text/plain": [
       "VBox()"
      ]
     },
     "metadata": {},
     "output_type": "display_data"
    },
    {
     "name": "stdout",
     "output_type": "stream",
     "text": [
      "Starting Spark application\n"
     ]
    },
    {
     "data": {
      "text/html": [
       "<table>\n",
       "<tbody><tr><th>ID</th><th>YARN Application ID</th><th>Kind</th><th>State</th><th>Spark UI</th><th>Driver log</th><th>User</th><th>Current session?</th></tr><tr><td>4</td><td>application_1698945703872_0005</td><td>pyspark</td><td>idle</td><td><a target=\"_blank\" href=\"http://ip-172-31-34-126.us-east-2.compute.internal:20888/proxy/application_1698945703872_0005/\" class=\"emr-proxy-link j-BQL82J75LHNK application_1698945703872_0005\" emr-resource=\"j-BQL82J75LHNK\n",
       "\" application-id=\"application_1698945703872_0005\">Link</a></td><td><a target=\"_blank\" href=\"http://ip-172-31-33-175.us-east-2.compute.internal:8042/node/containerlogs/container_1698945703872_0005_01_000001/livy\">Link</a></td><td>None</td><td>✔</td></tr></tbody></table>"
      ],
      "text/plain": [
       "<IPython.core.display.HTML object>"
      ]
     },
     "metadata": {},
     "output_type": "display_data"
    },
    {
     "data": {
      "application/vnd.jupyter.widget-view+json": {
       "model_id": "",
       "version_major": 2,
       "version_minor": 0
      },
      "text/plain": [
       "FloatProgress(value=0.0, bar_style='info', description='Progress:', layout=Layout(height='25px', width='50%'),…"
      ]
     },
     "metadata": {},
     "output_type": "display_data"
    },
    {
     "name": "stdout",
     "output_type": "stream",
     "text": [
      "SparkSession available as 'spark'.\n"
     ]
    },
    {
     "data": {
      "application/vnd.jupyter.widget-view+json": {
       "model_id": "",
       "version_major": 2,
       "version_minor": 0
      },
      "text/plain": [
       "FloatProgress(value=0.0, bar_style='info', description='Progress:', layout=Layout(height='25px', width='50%'),…"
      ]
     },
     "metadata": {},
     "output_type": "display_data"
    },
    {
     "name": "stdout",
     "output_type": "stream",
     "text": [
      "Collecting pandas==1.0.5\n",
      "  Downloading pandas-1.0.5-cp37-cp37m-manylinux1_x86_64.whl (10.1 MB)\n",
      "Collecting python-dateutil>=2.6.1\n",
      "  Downloading python_dateutil-2.8.2-py2.py3-none-any.whl (247 kB)\n",
      "Requirement already satisfied: pytz>=2017.2 in /usr/local/lib/python3.7/site-packages (from pandas==1.0.5) (2023.3.post1)\n",
      "Requirement already satisfied: numpy>=1.13.3 in /usr/local/lib64/python3.7/site-packages (from pandas==1.0.5) (1.20.0)\n",
      "Requirement already satisfied: six>=1.5 in /usr/local/lib/python3.7/site-packages (from python-dateutil>=2.6.1->pandas==1.0.5) (1.13.0)\n",
      "Installing collected packages: python-dateutil, pandas\n",
      "Successfully installed pandas-1.0.5 python-dateutil-2.8.2\n",
      "\n",
      "Collecting matplotlib==3.2.1\n",
      "  Downloading matplotlib-3.2.1-cp37-cp37m-manylinux1_x86_64.whl (12.4 MB)\n",
      "Collecting cycler>=0.10\n",
      "  Downloading cycler-0.11.0-py3-none-any.whl (6.4 kB)\n",
      "Collecting pyparsing!=2.0.4,!=2.1.2,!=2.1.6,>=2.0.1\n",
      "  Downloading pyparsing-3.1.1-py3-none-any.whl (103 kB)\n",
      "Requirement already satisfied: numpy>=1.11 in /usr/local/lib64/python3.7/site-packages (from matplotlib==3.2.1) (1.20.0)\n",
      "Requirement already satisfied: python-dateutil>=2.1 in ./tmp/spark-29f5af80-7504-4a54-81fa-e5b663c6f2c3/lib/python3.7/site-packages (from matplotlib==3.2.1) (2.8.2)\n",
      "Collecting kiwisolver>=1.0.1\n",
      "  Downloading kiwisolver-1.4.5-cp37-cp37m-manylinux_2_5_x86_64.manylinux1_x86_64.whl (1.1 MB)\n",
      "Requirement already satisfied: six>=1.5 in /usr/local/lib/python3.7/site-packages (from python-dateutil>=2.1->matplotlib==3.2.1) (1.13.0)\n",
      "Collecting typing-extensions; python_version < \"3.8\"\n",
      "  Downloading typing_extensions-4.7.1-py3-none-any.whl (33 kB)\n",
      "Installing collected packages: cycler, pyparsing, typing-extensions, kiwisolver, matplotlib\n",
      "Successfully installed cycler-0.11.0 kiwisolver-1.4.5 matplotlib-3.2.1 pyparsing-3.1.1 typing-extensions-4.7.1\n",
      "\n",
      "WARNING: The directory '/home/.cache/pip' or its parent directory is not owned or is not writable by the current user. The cache has been disabled. Check the permissions and owner of that directory. If executing pip with sudo, you may want sudo's -H flag.\n",
      "\n",
      "WARNING: The directory '/home/.cache/pip' or its parent directory is not owned or is not writable by the current user. The cache has been disabled. Check the permissions and owner of that directory. If executing pip with sudo, you may want sudo's -H flag."
     ]
    }
   ],
   "source": []
  },
  {
   "cell_type": "markdown",
   "id": "5ab05754",
   "metadata": {},
   "source": [
    "Now, import the installed packages from the previous block below."
   ]
  },
  {
   "cell_type": "code",
   "execution_count": 3,
   "id": "aa0d035a-0780-4319-9411-a5e85999d26f",
   "metadata": {
    "execution": {
     "iopub.execute_input": "2023-12-13T19:55:01.624304Z",
     "iopub.status.busy": "2023-12-13T19:55:01.624002Z",
     "iopub.status.idle": "2023-12-13T19:55:04.930507Z",
     "shell.execute_reply": "2023-12-13T19:55:04.929585Z",
     "shell.execute_reply.started": "2023-12-13T19:55:01.624279Z"
    },
    "tags": []
   },
   "outputs": [
    {
     "data": {
      "application/vnd.jupyter.widget-view+json": {
       "model_id": "c1e5c66debac4e718468d1072225e909",
       "version_major": 2,
       "version_minor": 0
      },
      "text/plain": [
       "VBox()"
      ]
     },
     "metadata": {},
     "output_type": "display_data"
    },
    {
     "data": {
      "application/vnd.jupyter.widget-view+json": {
       "model_id": "",
       "version_major": 2,
       "version_minor": 0
      },
      "text/plain": [
       "FloatProgress(value=0.0, bar_style='info', description='Progress:', layout=Layout(height='25px', width='50%'),…"
      ]
     },
     "metadata": {},
     "output_type": "display_data"
    }
   ],
   "source": [
    "import pandas as pd\n",
    "import matplotlib.pyplot as plt"
   ]
  },
  {
   "cell_type": "code",
   "execution_count": 3,
   "id": "6d0a7012",
   "metadata": {
    "execution": {
     "iopub.execute_input": "2023-11-02T20:48:31.450598Z",
     "iopub.status.busy": "2023-11-02T20:48:31.450360Z",
     "iopub.status.idle": "2023-11-02T20:48:33.719335Z",
     "shell.execute_reply": "2023-11-02T20:48:33.718713Z",
     "shell.execute_reply.started": "2023-11-02T20:48:31.450573Z"
    },
    "tags": []
   },
   "outputs": [
    {
     "data": {
      "application/vnd.jupyter.widget-view+json": {
       "model_id": "6d847141134e465db24a3bc938da6ca5",
       "version_major": 2,
       "version_minor": 0
      },
      "text/plain": [
       "VBox()"
      ]
     },
     "metadata": {},
     "output_type": "display_data"
    },
    {
     "data": {
      "application/vnd.jupyter.widget-view+json": {
       "model_id": "",
       "version_major": 2,
       "version_minor": 0
      },
      "text/plain": [
       "FloatProgress(value=0.0, bar_style='info', description='Progress:', layout=Layout(height='25px', width='50%'),…"
      ]
     },
     "metadata": {},
     "output_type": "display_data"
    }
   ],
   "source": []
  },
  {
   "cell_type": "markdown",
   "id": "e963f4ba",
   "metadata": {},
   "source": [
    "# Loading Data"
   ]
  },
  {
   "cell_type": "markdown",
   "id": "b4356189",
   "metadata": {},
   "source": [
    "Load all data from S3 into a Spark dataframe object "
   ]
  },
  {
   "cell_type": "code",
   "execution_count": 4,
   "id": "d121e15d-2e5a-4a10-b2ae-d5765ae8bf0f",
   "metadata": {
    "execution": {
     "iopub.execute_input": "2023-12-13T19:55:27.788941Z",
     "iopub.status.busy": "2023-12-13T19:55:27.788618Z",
     "iopub.status.idle": "2023-12-13T19:55:37.118087Z",
     "shell.execute_reply": "2023-12-13T19:55:37.117338Z",
     "shell.execute_reply.started": "2023-12-13T19:55:27.788914Z"
    },
    "tags": []
   },
   "outputs": [
    {
     "data": {
      "application/vnd.jupyter.widget-view+json": {
       "model_id": "0f4c406223a34a62bb81dbcc7d0d641f",
       "version_major": 2,
       "version_minor": 0
      },
      "text/plain": [
       "VBox()"
      ]
     },
     "metadata": {},
     "output_type": "display_data"
    },
    {
     "data": {
      "application/vnd.jupyter.widget-view+json": {
       "model_id": "",
       "version_major": 2,
       "version_minor": 0
      },
      "text/plain": [
       "FloatProgress(value=0.0, bar_style='info', description='Progress:', layout=Layout(height='25px', width='50%'),…"
      ]
     },
     "metadata": {},
     "output_type": "display_data"
    }
   ],
   "source": [
    "namedf = spark.read.csv('s3://cis9760-lecture9-movieanalysis/name.basics.tsv', header='true', sep=\"\\t\")\n",
    "titledf = spark.read.csv('s3://cis9760-lecture9-movieanalysis/title.basics.tsv', header='true', sep=\"\\t\")\n",
    "titleprincdf = spark.read.csv('s3://cis9760-lecture9-movieanalysis/title.principals.tsv', header='true', sep=\"\\t\")\n",
    "titleratdf = spark.read.csv('s3://cis9760-lecture9-movieanalysis/title.ratings.tsv', header='true', sep=\"\\t\")"
   ]
  },
  {
   "cell_type": "code",
   "execution_count": 4,
   "id": "24beddd1",
   "metadata": {
    "execution": {
     "iopub.execute_input": "2023-11-02T20:48:33.720553Z",
     "iopub.status.busy": "2023-11-02T20:48:33.720379Z",
     "iopub.status.idle": "2023-11-02T20:48:43.012062Z",
     "shell.execute_reply": "2023-11-02T20:48:43.011439Z",
     "shell.execute_reply.started": "2023-11-02T20:48:33.720533Z"
    },
    "tags": []
   },
   "outputs": [
    {
     "data": {
      "application/vnd.jupyter.widget-view+json": {
       "model_id": "fb8f978197254b778641371bb4a917d9",
       "version_major": 2,
       "version_minor": 0
      },
      "text/plain": [
       "VBox()"
      ]
     },
     "metadata": {},
     "output_type": "display_data"
    },
    {
     "data": {
      "application/vnd.jupyter.widget-view+json": {
       "model_id": "",
       "version_major": 2,
       "version_minor": 0
      },
      "text/plain": [
       "FloatProgress(value=0.0, bar_style='info', description='Progress:', layout=Layout(height='25px', width='50%'),…"
      ]
     },
     "metadata": {},
     "output_type": "display_data"
    }
   ],
   "source": []
  },
  {
   "cell_type": "markdown",
   "id": "c65401c7",
   "metadata": {},
   "source": [
    "## Name Basics"
   ]
  },
  {
   "cell_type": "markdown",
   "id": "03981851",
   "metadata": {},
   "source": [
    "Display the schema below:"
   ]
  },
  {
   "cell_type": "code",
   "execution_count": 5,
   "id": "51839473-97fe-4ab9-8520-2f32d9834809",
   "metadata": {
    "execution": {
     "iopub.execute_input": "2023-12-13T19:55:43.031988Z",
     "iopub.status.busy": "2023-12-13T19:55:43.031684Z",
     "iopub.status.idle": "2023-12-13T19:55:43.303946Z",
     "shell.execute_reply": "2023-12-13T19:55:43.302408Z",
     "shell.execute_reply.started": "2023-12-13T19:55:43.031964Z"
    }
   },
   "outputs": [
    {
     "data": {
      "application/vnd.jupyter.widget-view+json": {
       "model_id": "3f12bc2bdd824c0da81916462003837d",
       "version_major": 2,
       "version_minor": 0
      },
      "text/plain": [
       "VBox()"
      ]
     },
     "metadata": {},
     "output_type": "display_data"
    },
    {
     "data": {
      "application/vnd.jupyter.widget-view+json": {
       "model_id": "",
       "version_major": 2,
       "version_minor": 0
      },
      "text/plain": [
       "FloatProgress(value=0.0, bar_style='info', description='Progress:', layout=Layout(height='25px', width='50%'),…"
      ]
     },
     "metadata": {},
     "output_type": "display_data"
    },
    {
     "name": "stdout",
     "output_type": "stream",
     "text": [
      "root\n",
      " |-- nconst: string (nullable = true)\n",
      " |-- primaryName: string (nullable = true)\n",
      " |-- birthYear: string (nullable = true)\n",
      " |-- deathYear: string (nullable = true)\n",
      " |-- primaryProfession: string (nullable = true)\n",
      " |-- knownForTitles: string (nullable = true)"
     ]
    }
   ],
   "source": [
    "namedf.printSchema()"
   ]
  },
  {
   "cell_type": "code",
   "execution_count": 5,
   "id": "98b95e51",
   "metadata": {
    "execution": {
     "iopub.execute_input": "2023-11-02T20:48:43.013522Z",
     "iopub.status.busy": "2023-11-02T20:48:43.013343Z",
     "iopub.status.idle": "2023-11-02T20:48:43.263539Z",
     "shell.execute_reply": "2023-11-02T20:48:43.262802Z",
     "shell.execute_reply.started": "2023-11-02T20:48:43.013502Z"
    },
    "tags": []
   },
   "outputs": [
    {
     "data": {
      "application/vnd.jupyter.widget-view+json": {
       "model_id": "c57233f9f26e402a8273983c2cde356d",
       "version_major": 2,
       "version_minor": 0
      },
      "text/plain": [
       "VBox()"
      ]
     },
     "metadata": {},
     "output_type": "display_data"
    },
    {
     "data": {
      "application/vnd.jupyter.widget-view+json": {
       "model_id": "",
       "version_major": 2,
       "version_minor": 0
      },
      "text/plain": [
       "FloatProgress(value=0.0, bar_style='info', description='Progress:', layout=Layout(height='25px', width='50%'),…"
      ]
     },
     "metadata": {},
     "output_type": "display_data"
    },
    {
     "name": "stdout",
     "output_type": "stream",
     "text": [
      "root\n",
      " |-- nconst: string (nullable = true)\n",
      " |-- primaryName: string (nullable = true)\n",
      " |-- birthYear: string (nullable = true)\n",
      " |-- deathYear: string (nullable = true)\n",
      " |-- primaryProfession: string (nullable = true)\n",
      " |-- knownForTitles: string (nullable = true)"
     ]
    }
   ],
   "source": []
  },
  {
   "cell_type": "markdown",
   "id": "dfd8a219",
   "metadata": {},
   "source": [
    "Display the first 5 rows with the following columns:\n",
    "\n",
    "* `primaryName`\n",
    "* `birthYear`\n",
    "* `deathYear`\n",
    "* `knownForTitles`"
   ]
  },
  {
   "cell_type": "code",
   "execution_count": 6,
   "id": "3b49508c-4d6b-4553-b373-df5aa073d777",
   "metadata": {
    "execution": {
     "iopub.execute_input": "2023-12-13T19:55:54.583341Z",
     "iopub.status.busy": "2023-12-13T19:55:54.583038Z",
     "iopub.status.idle": "2023-12-13T19:55:55.350074Z",
     "shell.execute_reply": "2023-12-13T19:55:55.349028Z",
     "shell.execute_reply.started": "2023-12-13T19:55:54.583314Z"
    }
   },
   "outputs": [
    {
     "data": {
      "application/vnd.jupyter.widget-view+json": {
       "model_id": "2c4911d5fabd406980fe82d261dbdd61",
       "version_major": 2,
       "version_minor": 0
      },
      "text/plain": [
       "VBox()"
      ]
     },
     "metadata": {},
     "output_type": "display_data"
    },
    {
     "data": {
      "application/vnd.jupyter.widget-view+json": {
       "model_id": "",
       "version_major": 2,
       "version_minor": 0
      },
      "text/plain": [
       "FloatProgress(value=0.0, bar_style='info', description='Progress:', layout=Layout(height='25px', width='50%'),…"
      ]
     },
     "metadata": {},
     "output_type": "display_data"
    },
    {
     "name": "stdout",
     "output_type": "stream",
     "text": [
      "+---------------+---------+---------+--------------------+\n",
      "|    primaryName|birthYear|deathYear|      knownForTitles|\n",
      "+---------------+---------+---------+--------------------+\n",
      "|   Fred Astaire|     1899|     1987|tt0050419,tt00531...|\n",
      "|  Lauren Bacall|     1924|     2014|tt0071877,tt01170...|\n",
      "|Brigitte Bardot|     1934|       \\N|tt0054452,tt00491...|\n",
      "|   John Belushi|     1949|     1982|tt0077975,tt00725...|\n",
      "| Ingmar Bergman|     1918|     2007|tt0069467,tt00509...|\n",
      "+---------------+---------+---------+--------------------+\n",
      "only showing top 5 rows"
     ]
    }
   ],
   "source": [
    "namedf.select('primaryName', 'birthYear', 'deathYear', 'knownForTitles').show(5)"
   ]
  },
  {
   "cell_type": "code",
   "execution_count": 6,
   "id": "29db2340",
   "metadata": {
    "execution": {
     "iopub.execute_input": "2023-11-02T20:48:43.264920Z",
     "iopub.status.busy": "2023-11-02T20:48:43.264753Z",
     "iopub.status.idle": "2023-11-02T20:48:44.029171Z",
     "shell.execute_reply": "2023-11-02T20:48:44.028461Z",
     "shell.execute_reply.started": "2023-11-02T20:48:43.264899Z"
    },
    "tags": []
   },
   "outputs": [
    {
     "data": {
      "application/vnd.jupyter.widget-view+json": {
       "model_id": "4ef1ad8836f2460597b2f68a74f8c074",
       "version_major": 2,
       "version_minor": 0
      },
      "text/plain": [
       "VBox()"
      ]
     },
     "metadata": {},
     "output_type": "display_data"
    },
    {
     "data": {
      "application/vnd.jupyter.widget-view+json": {
       "model_id": "",
       "version_major": 2,
       "version_minor": 0
      },
      "text/plain": [
       "FloatProgress(value=0.0, bar_style='info', description='Progress:', layout=Layout(height='25px', width='50%'),…"
      ]
     },
     "metadata": {},
     "output_type": "display_data"
    },
    {
     "name": "stdout",
     "output_type": "stream",
     "text": [
      "+---------------+---------+---------+--------------------+\n",
      "|    primaryName|birthYear|deathYear|      knownForTitles|\n",
      "+---------------+---------+---------+--------------------+\n",
      "|   Fred Astaire|     1899|     1987|tt0050419,tt00531...|\n",
      "|  Lauren Bacall|     1924|     2014|tt0071877,tt01170...|\n",
      "|Brigitte Bardot|     1934|       \\N|tt0054452,tt00491...|\n",
      "|   John Belushi|     1949|     1982|tt0077975,tt00725...|\n",
      "| Ingmar Bergman|     1918|     2007|tt0069467,tt00509...|\n",
      "+---------------+---------+---------+--------------------+\n",
      "only showing top 5 rows"
     ]
    }
   ],
   "source": []
  },
  {
   "cell_type": "markdown",
   "id": "65371453",
   "metadata": {},
   "source": [
    "## Title Basics"
   ]
  },
  {
   "cell_type": "markdown",
   "id": "b95d8c5a",
   "metadata": {},
   "source": [
    "Display the first 15 rows with the following columns:\n",
    "    \n",
    "* `titleType`\n",
    "* `primaryTitle`\n",
    "* `genres`"
   ]
  },
  {
   "cell_type": "code",
   "execution_count": 7,
   "id": "9538d813-2fd4-4d2f-ae5a-33ee5f34bc63",
   "metadata": {
    "execution": {
     "iopub.execute_input": "2023-12-13T19:56:17.671742Z",
     "iopub.status.busy": "2023-12-13T19:56:17.671444Z",
     "iopub.status.idle": "2023-12-13T19:56:18.443995Z",
     "shell.execute_reply": "2023-12-13T19:56:18.443258Z",
     "shell.execute_reply.started": "2023-12-13T19:56:17.671718Z"
    }
   },
   "outputs": [
    {
     "data": {
      "application/vnd.jupyter.widget-view+json": {
       "model_id": "ba64764ccdaf4b7a96bbb10ea01eb9be",
       "version_major": 2,
       "version_minor": 0
      },
      "text/plain": [
       "VBox()"
      ]
     },
     "metadata": {},
     "output_type": "display_data"
    },
    {
     "data": {
      "application/vnd.jupyter.widget-view+json": {
       "model_id": "",
       "version_major": 2,
       "version_minor": 0
      },
      "text/plain": [
       "FloatProgress(value=0.0, bar_style='info', description='Progress:', layout=Layout(height='25px', width='50%'),…"
      ]
     },
     "metadata": {},
     "output_type": "display_data"
    },
    {
     "name": "stdout",
     "output_type": "stream",
     "text": [
      "+---------+--------------------+--------------------+\n",
      "|titleType|        primaryTitle|              genres|\n",
      "+---------+--------------------+--------------------+\n",
      "|    short|          Carmencita|   Documentary,Short|\n",
      "|    short|Le clown et ses c...|     Animation,Short|\n",
      "|    short|      Pauvre Pierrot|Animation,Comedy,...|\n",
      "|    short|         Un bon bock|     Animation,Short|\n",
      "|    short|    Blacksmith Scene|        Comedy,Short|\n",
      "|    short|   Chinese Opium Den|               Short|\n",
      "|    short|Corbett and Court...|         Short,Sport|\n",
      "|    short|Edison Kinetoscop...|   Documentary,Short|\n",
      "|    movie|          Miss Jerry|             Romance|\n",
      "|    short| Exiting the Factory|   Documentary,Short|\n",
      "|    short|Akrobatisches Pot...|   Documentary,Short|\n",
      "|    short|The Arrival of a ...|Action,Documentar...|\n",
      "|    short|The Photographica...|   Documentary,Short|\n",
      "|    short|The Sprinkler Spr...|        Comedy,Short|\n",
      "|    short| Autour d'une cabine|     Animation,Short|\n",
      "+---------+--------------------+--------------------+\n",
      "only showing top 15 rows"
     ]
    }
   ],
   "source": [
    "titledf.select('titleType', 'primaryTitle', 'genres').show(15)"
   ]
  },
  {
   "cell_type": "code",
   "execution_count": 7,
   "id": "74c95177",
   "metadata": {
    "execution": {
     "iopub.execute_input": "2023-11-02T20:48:44.030636Z",
     "iopub.status.busy": "2023-11-02T20:48:44.030374Z",
     "iopub.status.idle": "2023-11-02T20:48:44.789382Z",
     "shell.execute_reply": "2023-11-02T20:48:44.788579Z",
     "shell.execute_reply.started": "2023-11-02T20:48:44.030583Z"
    },
    "tags": []
   },
   "outputs": [
    {
     "data": {
      "application/vnd.jupyter.widget-view+json": {
       "model_id": "27243f02190443e685736c09edbb3eca",
       "version_major": 2,
       "version_minor": 0
      },
      "text/plain": [
       "VBox()"
      ]
     },
     "metadata": {},
     "output_type": "display_data"
    },
    {
     "data": {
      "application/vnd.jupyter.widget-view+json": {
       "model_id": "",
       "version_major": 2,
       "version_minor": 0
      },
      "text/plain": [
       "FloatProgress(value=0.0, bar_style='info', description='Progress:', layout=Layout(height='25px', width='50%'),…"
      ]
     },
     "metadata": {},
     "output_type": "display_data"
    },
    {
     "name": "stdout",
     "output_type": "stream",
     "text": [
      "+---------+--------------------+--------------------+\n",
      "|titleType|        primaryTitle|              genres|\n",
      "+---------+--------------------+--------------------+\n",
      "|    short|          Carmencita|   Documentary,Short|\n",
      "|    short|Le clown et ses c...|     Animation,Short|\n",
      "|    short|      Pauvre Pierrot|Animation,Comedy,...|\n",
      "|    short|         Un bon bock|     Animation,Short|\n",
      "|    short|    Blacksmith Scene|        Comedy,Short|\n",
      "|    short|   Chinese Opium Den|               Short|\n",
      "|    short|Corbett and Court...|         Short,Sport|\n",
      "|    short|Edison Kinetoscop...|   Documentary,Short|\n",
      "|    movie|          Miss Jerry|             Romance|\n",
      "|    short| Exiting the Factory|   Documentary,Short|\n",
      "|    short|Akrobatisches Pot...|   Documentary,Short|\n",
      "|    short|The Arrival of a ...|Action,Documentar...|\n",
      "|    short|The Photographica...|   Documentary,Short|\n",
      "|    short|The Sprinkler Spr...|        Comedy,Short|\n",
      "|    short| Autour d'une cabine|     Animation,Short|\n",
      "+---------+--------------------+--------------------+\n",
      "only showing top 15 rows"
     ]
    }
   ],
   "source": []
  },
  {
   "cell_type": "markdown",
   "id": "f3852bb4",
   "metadata": {},
   "source": [
    "Display the unique titles below:"
   ]
  },
  {
   "cell_type": "code",
   "execution_count": 8,
   "id": "3630b29d-6187-4291-9c3e-8833be257a20",
   "metadata": {
    "execution": {
     "iopub.execute_input": "2023-12-13T19:56:31.046109Z",
     "iopub.status.busy": "2023-12-13T19:56:31.045803Z",
     "iopub.status.idle": "2023-12-13T19:56:40.351690Z",
     "shell.execute_reply": "2023-12-13T19:56:40.350834Z",
     "shell.execute_reply.started": "2023-12-13T19:56:31.046083Z"
    }
   },
   "outputs": [
    {
     "data": {
      "application/vnd.jupyter.widget-view+json": {
       "model_id": "7629d898683246f6bdd6f8dec2927844",
       "version_major": 2,
       "version_minor": 0
      },
      "text/plain": [
       "VBox()"
      ]
     },
     "metadata": {},
     "output_type": "display_data"
    },
    {
     "data": {
      "application/vnd.jupyter.widget-view+json": {
       "model_id": "",
       "version_major": 2,
       "version_minor": 0
      },
      "text/plain": [
       "FloatProgress(value=0.0, bar_style='info', description='Progress:', layout=Layout(height='25px', width='50%'),…"
      ]
     },
     "metadata": {},
     "output_type": "display_data"
    },
    {
     "name": "stdout",
     "output_type": "stream",
     "text": [
      "+------------+\n",
      "|   titleType|\n",
      "+------------+\n",
      "|    tvSeries|\n",
      "|tvMiniSeries|\n",
      "|       movie|\n",
      "|   videoGame|\n",
      "|   tvSpecial|\n",
      "|       video|\n",
      "|     tvMovie|\n",
      "|   tvEpisode|\n",
      "|     tvShort|\n",
      "|       short|\n",
      "+------------+"
     ]
    }
   ],
   "source": [
    "titledf.select('titleType').distinct().show()"
   ]
  },
  {
   "cell_type": "code",
   "execution_count": 8,
   "id": "2a28caff",
   "metadata": {
    "execution": {
     "iopub.execute_input": "2023-11-02T20:48:44.790518Z",
     "iopub.status.busy": "2023-11-02T20:48:44.790338Z",
     "iopub.status.idle": "2023-11-02T20:48:54.118054Z",
     "shell.execute_reply": "2023-11-02T20:48:54.117423Z",
     "shell.execute_reply.started": "2023-11-02T20:48:44.790496Z"
    },
    "tags": []
   },
   "outputs": [
    {
     "data": {
      "application/vnd.jupyter.widget-view+json": {
       "model_id": "a736f71ab868470b8b0d642eadc4cd2c",
       "version_major": 2,
       "version_minor": 0
      },
      "text/plain": [
       "VBox()"
      ]
     },
     "metadata": {},
     "output_type": "display_data"
    },
    {
     "data": {
      "application/vnd.jupyter.widget-view+json": {
       "model_id": "",
       "version_major": 2,
       "version_minor": 0
      },
      "text/plain": [
       "FloatProgress(value=0.0, bar_style='info', description='Progress:', layout=Layout(height='25px', width='50%'),…"
      ]
     },
     "metadata": {},
     "output_type": "display_data"
    },
    {
     "name": "stdout",
     "output_type": "stream",
     "text": [
      "+------------+\n",
      "|   titleType|\n",
      "+------------+\n",
      "|    tvSeries|\n",
      "|tvMiniSeries|\n",
      "|       movie|\n",
      "|   videoGame|\n",
      "|   tvSpecial|\n",
      "|       video|\n",
      "|     tvMovie|\n",
      "|   tvEpisode|\n",
      "|     tvShort|\n",
      "|       short|\n",
      "+------------+"
     ]
    }
   ],
   "source": []
  },
  {
   "cell_type": "markdown",
   "id": "d8f3c92f",
   "metadata": {},
   "source": [
    "Display the schema below:"
   ]
  },
  {
   "cell_type": "code",
   "execution_count": 9,
   "id": "d184f5d3-8dc6-40ec-9a4f-05231517f0ec",
   "metadata": {
    "execution": {
     "iopub.execute_input": "2023-12-13T19:56:53.748680Z",
     "iopub.status.busy": "2023-12-13T19:56:53.748350Z",
     "iopub.status.idle": "2023-12-13T19:56:53.804909Z",
     "shell.execute_reply": "2023-12-13T19:56:53.803898Z",
     "shell.execute_reply.started": "2023-12-13T19:56:53.748640Z"
    }
   },
   "outputs": [
    {
     "data": {
      "application/vnd.jupyter.widget-view+json": {
       "model_id": "29429797f1b54bbfa45ae3af0d01cf9a",
       "version_major": 2,
       "version_minor": 0
      },
      "text/plain": [
       "VBox()"
      ]
     },
     "metadata": {},
     "output_type": "display_data"
    },
    {
     "data": {
      "application/vnd.jupyter.widget-view+json": {
       "model_id": "",
       "version_major": 2,
       "version_minor": 0
      },
      "text/plain": [
       "FloatProgress(value=0.0, bar_style='info', description='Progress:', layout=Layout(height='25px', width='50%'),…"
      ]
     },
     "metadata": {},
     "output_type": "display_data"
    },
    {
     "name": "stdout",
     "output_type": "stream",
     "text": [
      "root\n",
      " |-- tconst: string (nullable = true)\n",
      " |-- titleType: string (nullable = true)\n",
      " |-- primaryTitle: string (nullable = true)\n",
      " |-- originalTitle: string (nullable = true)\n",
      " |-- isAdult: string (nullable = true)\n",
      " |-- startYear: string (nullable = true)\n",
      " |-- endYear: string (nullable = true)\n",
      " |-- runtimeMinutes: string (nullable = true)\n",
      " |-- genres: string (nullable = true)"
     ]
    }
   ],
   "source": [
    "titledf.printSchema()"
   ]
  },
  {
   "cell_type": "code",
   "execution_count": 9,
   "id": "8334d2fe",
   "metadata": {
    "execution": {
     "iopub.execute_input": "2023-11-02T20:48:54.121567Z",
     "iopub.status.busy": "2023-11-02T20:48:54.121166Z",
     "iopub.status.idle": "2023-11-02T20:48:54.169889Z",
     "shell.execute_reply": "2023-11-02T20:48:54.169100Z",
     "shell.execute_reply.started": "2023-11-02T20:48:54.121535Z"
    },
    "tags": []
   },
   "outputs": [
    {
     "data": {
      "application/vnd.jupyter.widget-view+json": {
       "model_id": "394687a5357544079c260a5f6383494e",
       "version_major": 2,
       "version_minor": 0
      },
      "text/plain": [
       "VBox()"
      ]
     },
     "metadata": {},
     "output_type": "display_data"
    },
    {
     "data": {
      "application/vnd.jupyter.widget-view+json": {
       "model_id": "",
       "version_major": 2,
       "version_minor": 0
      },
      "text/plain": [
       "FloatProgress(value=0.0, bar_style='info', description='Progress:', layout=Layout(height='25px', width='50%'),…"
      ]
     },
     "metadata": {},
     "output_type": "display_data"
    },
    {
     "name": "stdout",
     "output_type": "stream",
     "text": [
      "root\n",
      " |-- tconst: string (nullable = true)\n",
      " |-- titleType: string (nullable = true)\n",
      " |-- primaryTitle: string (nullable = true)\n",
      " |-- originalTitle: string (nullable = true)\n",
      " |-- isAdult: string (nullable = true)\n",
      " |-- startYear: string (nullable = true)\n",
      " |-- endYear: string (nullable = true)\n",
      " |-- runtimeMinutes: string (nullable = true)\n",
      " |-- genres: string (nullable = true)"
     ]
    }
   ],
   "source": []
  },
  {
   "cell_type": "markdown",
   "id": "bf21e1b7",
   "metadata": {},
   "source": [
    "## Title Principles"
   ]
  },
  {
   "cell_type": "markdown",
   "id": "442830b8",
   "metadata": {},
   "source": [
    "Display the schema below:"
   ]
  },
  {
   "cell_type": "code",
   "execution_count": 10,
   "id": "de2fa50f-de39-4672-83f9-a6bddb634884",
   "metadata": {
    "execution": {
     "iopub.execute_input": "2023-12-13T19:57:03.449083Z",
     "iopub.status.busy": "2023-12-13T19:57:03.448757Z",
     "iopub.status.idle": "2023-12-13T19:57:03.503492Z",
     "shell.execute_reply": "2023-12-13T19:57:03.502825Z",
     "shell.execute_reply.started": "2023-12-13T19:57:03.449055Z"
    }
   },
   "outputs": [
    {
     "data": {
      "application/vnd.jupyter.widget-view+json": {
       "model_id": "9d1921c6211c4cb8879b58462a548777",
       "version_major": 2,
       "version_minor": 0
      },
      "text/plain": [
       "VBox()"
      ]
     },
     "metadata": {},
     "output_type": "display_data"
    },
    {
     "data": {
      "application/vnd.jupyter.widget-view+json": {
       "model_id": "",
       "version_major": 2,
       "version_minor": 0
      },
      "text/plain": [
       "FloatProgress(value=0.0, bar_style='info', description='Progress:', layout=Layout(height='25px', width='50%'),…"
      ]
     },
     "metadata": {},
     "output_type": "display_data"
    },
    {
     "name": "stdout",
     "output_type": "stream",
     "text": [
      "root\n",
      " |-- tconst: string (nullable = true)\n",
      " |-- ordering: string (nullable = true)\n",
      " |-- nconst: string (nullable = true)\n",
      " |-- category: string (nullable = true)\n",
      " |-- job: string (nullable = true)\n",
      " |-- characters: string (nullable = true)"
     ]
    }
   ],
   "source": [
    "titleprincdf.printSchema()"
   ]
  },
  {
   "cell_type": "code",
   "execution_count": 10,
   "id": "b7241872",
   "metadata": {
    "execution": {
     "iopub.execute_input": "2023-11-02T20:48:54.171895Z",
     "iopub.status.busy": "2023-11-02T20:48:54.171648Z",
     "iopub.status.idle": "2023-11-02T20:48:54.221234Z",
     "shell.execute_reply": "2023-11-02T20:48:54.218700Z",
     "shell.execute_reply.started": "2023-11-02T20:48:54.171861Z"
    },
    "tags": []
   },
   "outputs": [
    {
     "data": {
      "application/vnd.jupyter.widget-view+json": {
       "model_id": "f5e7ba32d20147b98d0526a876964bbb",
       "version_major": 2,
       "version_minor": 0
      },
      "text/plain": [
       "VBox()"
      ]
     },
     "metadata": {},
     "output_type": "display_data"
    },
    {
     "data": {
      "application/vnd.jupyter.widget-view+json": {
       "model_id": "",
       "version_major": 2,
       "version_minor": 0
      },
      "text/plain": [
       "FloatProgress(value=0.0, bar_style='info', description='Progress:', layout=Layout(height='25px', width='50%'),…"
      ]
     },
     "metadata": {},
     "output_type": "display_data"
    },
    {
     "name": "stdout",
     "output_type": "stream",
     "text": [
      "root\n",
      " |-- tconst: string (nullable = true)\n",
      " |-- ordering: string (nullable = true)\n",
      " |-- nconst: string (nullable = true)\n",
      " |-- category: string (nullable = true)\n",
      " |-- job: string (nullable = true)\n",
      " |-- characters: string (nullable = true)"
     ]
    }
   ],
   "source": []
  },
  {
   "cell_type": "markdown",
   "id": "e24870d3",
   "metadata": {},
   "source": [
    "Display the first 15 rows where the \"category\" column is \"self\""
   ]
  },
  {
   "cell_type": "code",
   "execution_count": 11,
   "id": "6a8a875a-2e78-41a6-988e-3ca1a1063f9a",
   "metadata": {
    "execution": {
     "iopub.execute_input": "2023-12-13T19:57:16.935954Z",
     "iopub.status.busy": "2023-12-13T19:57:16.935657Z",
     "iopub.status.idle": "2023-12-13T19:57:17.702468Z",
     "shell.execute_reply": "2023-12-13T19:57:17.701752Z",
     "shell.execute_reply.started": "2023-12-13T19:57:16.935930Z"
    },
    "tags": []
   },
   "outputs": [
    {
     "data": {
      "application/vnd.jupyter.widget-view+json": {
       "model_id": "d1758496e59343959112c0a8c9bb1329",
       "version_major": 2,
       "version_minor": 0
      },
      "text/plain": [
       "VBox()"
      ]
     },
     "metadata": {},
     "output_type": "display_data"
    },
    {
     "data": {
      "application/vnd.jupyter.widget-view+json": {
       "model_id": "",
       "version_major": 2,
       "version_minor": 0
      },
      "text/plain": [
       "FloatProgress(value=0.0, bar_style='info', description='Progress:', layout=Layout(height='25px', width='50%'),…"
      ]
     },
     "metadata": {},
     "output_type": "display_data"
    },
    {
     "name": "stdout",
     "output_type": "stream",
     "text": [
      "+---------+--------+---------+--------+---+--------------------+\n",
      "|   tconst|ordering|   nconst|category|job|          characters|\n",
      "+---------+--------+---------+--------+---+--------------------+\n",
      "|tt0000001|       1|nm1588970|    self| \\N|         [\"Herself\"]|\n",
      "|tt0000012|       1|nm2880396|    self| \\N|         [\"Herself\"]|\n",
      "|tt0000012|       2|nm9735580|    self| \\N|         [\"Himself\"]|\n",
      "|tt0000012|       3|nm0525900|    self| \\N|         [\"Herself\"]|\n",
      "|tt0000012|       4|nm9735581|    self| \\N|         [\"Herself\"]|\n",
      "|tt0000012|       7|nm9735579|    self| \\N|         [\"Herself\"]|\n",
      "|tt0000012|       8|nm9653419|    self| \\N|         [\"Herself\"]|\n",
      "|tt0000013|       1|nm0525908|    self| \\N|         [\"Himself\"]|\n",
      "|tt0000013|       2|nm1715062|    self| \\N|         [\"Himself\"]|\n",
      "|tt0000016|       1|nm0525900|    self| \\N|[\"Herself (on the...|\n",
      "|tt0000016|       2|nm9735581|    self| \\N|[\"Herself (on the...|\n",
      "|tt0000024|       1|nm0256651|    self| \\N|[\"Herself - Empre...|\n",
      "|tt0000024|       2|nm0435118|    self| \\N|[\"Himself - Emper...|\n",
      "|tt0000028|       1|nm2350838|    self| \\N|         [\"Himself\"]|\n",
      "|tt0000028|       2|nm0525908|    self| \\N|         [\"Himself\"]|\n",
      "+---------+--------+---------+--------+---+--------------------+\n",
      "only showing top 15 rows"
     ]
    }
   ],
   "source": [
    "titleprincdf.filter(titleprincdf.category == 'self').show(15)"
   ]
  },
  {
   "cell_type": "code",
   "execution_count": 11,
   "id": "3f6dbef1",
   "metadata": {
    "execution": {
     "iopub.execute_input": "2023-11-02T20:48:54.222797Z",
     "iopub.status.busy": "2023-11-02T20:48:54.222524Z",
     "iopub.status.idle": "2023-11-02T20:48:54.991266Z",
     "shell.execute_reply": "2023-11-02T20:48:54.990469Z",
     "shell.execute_reply.started": "2023-11-02T20:48:54.222764Z"
    },
    "tags": []
   },
   "outputs": [
    {
     "data": {
      "application/vnd.jupyter.widget-view+json": {
       "model_id": "42991e363c9e452e9f230a535544eb31",
       "version_major": 2,
       "version_minor": 0
      },
      "text/plain": [
       "VBox()"
      ]
     },
     "metadata": {},
     "output_type": "display_data"
    },
    {
     "data": {
      "application/vnd.jupyter.widget-view+json": {
       "model_id": "",
       "version_major": 2,
       "version_minor": 0
      },
      "text/plain": [
       "FloatProgress(value=0.0, bar_style='info', description='Progress:', layout=Layout(height='25px', width='50%'),…"
      ]
     },
     "metadata": {},
     "output_type": "display_data"
    },
    {
     "name": "stdout",
     "output_type": "stream",
     "text": [
      "+---------+--------+---------+--------+---+--------------------+\n",
      "|   tconst|ordering|   nconst|category|job|          characters|\n",
      "+---------+--------+---------+--------+---+--------------------+\n",
      "|tt0000001|       1|nm1588970|    self| \\N|         [\"Herself\"]|\n",
      "|tt0000012|       1|nm2880396|    self| \\N|         [\"Herself\"]|\n",
      "|tt0000012|       2|nm9735580|    self| \\N|         [\"Himself\"]|\n",
      "|tt0000012|       3|nm0525900|    self| \\N|         [\"Herself\"]|\n",
      "|tt0000012|       4|nm9735581|    self| \\N|         [\"Herself\"]|\n",
      "|tt0000012|       7|nm9735579|    self| \\N|         [\"Herself\"]|\n",
      "|tt0000012|       8|nm9653419|    self| \\N|         [\"Herself\"]|\n",
      "|tt0000013|       1|nm0525908|    self| \\N|         [\"Himself\"]|\n",
      "|tt0000013|       2|nm1715062|    self| \\N|         [\"Himself\"]|\n",
      "|tt0000016|       1|nm0525900|    self| \\N|[\"Herself (on the...|\n",
      "|tt0000016|       2|nm9735581|    self| \\N|[\"Herself (on the...|\n",
      "|tt0000024|       1|nm0256651|    self| \\N|[\"Herself - Empre...|\n",
      "|tt0000024|       2|nm0435118|    self| \\N|[\"Himself - Emper...|\n",
      "|tt0000028|       1|nm2350838|    self| \\N|         [\"Himself\"]|\n",
      "|tt0000028|       2|nm0525908|    self| \\N|         [\"Himself\"]|\n",
      "+---------+--------+---------+--------+---+--------------------+\n",
      "only showing top 15 rows"
     ]
    }
   ],
   "source": []
  },
  {
   "cell_type": "markdown",
   "id": "d8e128fc",
   "metadata": {},
   "source": [
    "## Title Ratings"
   ]
  },
  {
   "cell_type": "markdown",
   "id": "c40d60cd",
   "metadata": {},
   "source": [
    "Display the schema below:"
   ]
  },
  {
   "cell_type": "code",
   "execution_count": 12,
   "id": "f0289174-c988-4ceb-915b-198f90b7e7f2",
   "metadata": {
    "execution": {
     "iopub.execute_input": "2023-12-13T19:57:33.540885Z",
     "iopub.status.busy": "2023-12-13T19:57:33.540576Z",
     "iopub.status.idle": "2023-12-13T19:57:33.593503Z",
     "shell.execute_reply": "2023-12-13T19:57:33.592752Z",
     "shell.execute_reply.started": "2023-12-13T19:57:33.540859Z"
    }
   },
   "outputs": [
    {
     "data": {
      "application/vnd.jupyter.widget-view+json": {
       "model_id": "0801a8d4f4734f4e8b54ca046caa1e71",
       "version_major": 2,
       "version_minor": 0
      },
      "text/plain": [
       "VBox()"
      ]
     },
     "metadata": {},
     "output_type": "display_data"
    },
    {
     "data": {
      "application/vnd.jupyter.widget-view+json": {
       "model_id": "",
       "version_major": 2,
       "version_minor": 0
      },
      "text/plain": [
       "FloatProgress(value=0.0, bar_style='info', description='Progress:', layout=Layout(height='25px', width='50%'),…"
      ]
     },
     "metadata": {},
     "output_type": "display_data"
    },
    {
     "name": "stdout",
     "output_type": "stream",
     "text": [
      "root\n",
      " |-- tconst: string (nullable = true)\n",
      " |-- averageRating: string (nullable = true)\n",
      " |-- numVotes: string (nullable = true)"
     ]
    }
   ],
   "source": [
    "titleratdf.printSchema()"
   ]
  },
  {
   "cell_type": "code",
   "execution_count": 12,
   "id": "1ed78395",
   "metadata": {
    "execution": {
     "iopub.execute_input": "2023-11-02T20:48:54.992355Z",
     "iopub.status.busy": "2023-11-02T20:48:54.992190Z",
     "iopub.status.idle": "2023-11-02T20:48:55.040798Z",
     "shell.execute_reply": "2023-11-02T20:48:55.040170Z",
     "shell.execute_reply.started": "2023-11-02T20:48:54.992335Z"
    },
    "tags": []
   },
   "outputs": [
    {
     "data": {
      "application/vnd.jupyter.widget-view+json": {
       "model_id": "2ba377209de844a1acbfe293b813a758",
       "version_major": 2,
       "version_minor": 0
      },
      "text/plain": [
       "VBox()"
      ]
     },
     "metadata": {},
     "output_type": "display_data"
    },
    {
     "data": {
      "application/vnd.jupyter.widget-view+json": {
       "model_id": "",
       "version_major": 2,
       "version_minor": 0
      },
      "text/plain": [
       "FloatProgress(value=0.0, bar_style='info', description='Progress:', layout=Layout(height='25px', width='50%'),…"
      ]
     },
     "metadata": {},
     "output_type": "display_data"
    },
    {
     "name": "stdout",
     "output_type": "stream",
     "text": [
      "root\n",
      " |-- tconst: string (nullable = true)\n",
      " |-- averageRating: string (nullable = true)\n",
      " |-- numVotes: string (nullable = true)"
     ]
    }
   ],
   "source": []
  },
  {
   "cell_type": "markdown",
   "id": "76ac1ac7",
   "metadata": {},
   "source": [
    "Display the first 10 rows in a descending order by the number of votes"
   ]
  },
  {
   "cell_type": "code",
   "execution_count": 13,
   "id": "bfa04f44-48ce-40f3-91e7-75c3dbb18048",
   "metadata": {
    "execution": {
     "iopub.execute_input": "2023-12-13T19:57:45.219391Z",
     "iopub.status.busy": "2023-12-13T19:57:45.219084Z",
     "iopub.status.idle": "2023-12-13T19:57:47.515948Z",
     "shell.execute_reply": "2023-12-13T19:57:47.513951Z",
     "shell.execute_reply.started": "2023-12-13T19:57:45.219365Z"
    }
   },
   "outputs": [
    {
     "data": {
      "application/vnd.jupyter.widget-view+json": {
       "model_id": "a69fad1d8eed4ad3bcdf9955407691ef",
       "version_major": 2,
       "version_minor": 0
      },
      "text/plain": [
       "VBox()"
      ]
     },
     "metadata": {},
     "output_type": "display_data"
    },
    {
     "data": {
      "application/vnd.jupyter.widget-view+json": {
       "model_id": "",
       "version_major": 2,
       "version_minor": 0
      },
      "text/plain": [
       "FloatProgress(value=0.0, bar_style='info', description='Progress:', layout=Layout(height='25px', width='50%'),…"
      ]
     },
     "metadata": {},
     "output_type": "display_data"
    },
    {
     "name": "stdout",
     "output_type": "stream",
     "text": [
      "+---------+-------------+---------+\n",
      "|   tconst|averageRating| numVotes|\n",
      "+---------+-------------+---------+\n",
      "|tt0111161|          9.3|2159745.0|\n",
      "|tt0468569|          9.0|2134602.0|\n",
      "|tt1375666|          8.8|1892958.0|\n",
      "|tt0137523|          8.8|1725444.0|\n",
      "|tt0110912|          8.9|1695159.0|\n",
      "|tt0109830|          8.8|1662609.0|\n",
      "|tt0944947|          9.4|1606096.0|\n",
      "|tt0133093|          8.7|1554345.0|\n",
      "|tt0120737|          8.8|1548920.0|\n",
      "|tt0167260|          8.9|1533632.0|\n",
      "+---------+-------------+---------+\n",
      "only showing top 10 rows"
     ]
    }
   ],
   "source": [
    "numVotes = titleratdf.numVotes.cast(\"float\")\n",
    "titleratdf = titleratdf.withColumn(\"numVotes\", numVotes)\n",
    "titleratdf.orderBy(titleratdf.numVotes.desc()).show(10)"
   ]
  },
  {
   "cell_type": "code",
   "execution_count": 13,
   "id": "9f663e07",
   "metadata": {
    "execution": {
     "iopub.execute_input": "2023-11-02T20:48:55.042069Z",
     "iopub.status.busy": "2023-11-02T20:48:55.041833Z",
     "iopub.status.idle": "2023-11-02T20:48:57.309828Z",
     "shell.execute_reply": "2023-11-02T20:48:57.308946Z",
     "shell.execute_reply.started": "2023-11-02T20:48:55.042036Z"
    },
    "tags": []
   },
   "outputs": [
    {
     "data": {
      "application/vnd.jupyter.widget-view+json": {
       "model_id": "54d644bdec3343de9f161476c029f9c8",
       "version_major": 2,
       "version_minor": 0
      },
      "text/plain": [
       "VBox()"
      ]
     },
     "metadata": {},
     "output_type": "display_data"
    },
    {
     "data": {
      "application/vnd.jupyter.widget-view+json": {
       "model_id": "",
       "version_major": 2,
       "version_minor": 0
      },
      "text/plain": [
       "FloatProgress(value=0.0, bar_style='info', description='Progress:', layout=Layout(height='25px', width='50%'),…"
      ]
     },
     "metadata": {},
     "output_type": "display_data"
    },
    {
     "name": "stdout",
     "output_type": "stream",
     "text": [
      "+---------+-------------+---------+\n",
      "|   tconst|averageRating| numVotes|\n",
      "+---------+-------------+---------+\n",
      "|tt0111161|          9.3|2159745.0|\n",
      "|tt0468569|          9.0|2134602.0|\n",
      "|tt1375666|          8.8|1892958.0|\n",
      "|tt0137523|          8.8|1725444.0|\n",
      "|tt0110912|          8.9|1695159.0|\n",
      "|tt0109830|          8.8|1662609.0|\n",
      "|tt0944947|          9.4|1606096.0|\n",
      "|tt0133093|          8.7|1554345.0|\n",
      "|tt0120737|          8.8|1548920.0|\n",
      "|tt0167260|          8.9|1533632.0|\n",
      "|tt0068646|          9.2|1482225.0|\n",
      "|tt1345836|          8.4|1421506.0|\n",
      "|tt0167261|          8.7|1387208.0|\n",
      "|tt0816692|          8.6|1348184.0|\n",
      "|tt0114369|          8.6|1327441.0|\n",
      "+---------+-------------+---------+\n",
      "only showing top 15 rows"
     ]
    }
   ],
   "source": []
  },
  {
   "cell_type": "markdown",
   "id": "e77cf460",
   "metadata": {},
   "source": [
    "# Overview of Data"
   ]
  },
  {
   "cell_type": "markdown",
   "id": "2bc943bf",
   "metadata": {},
   "source": [
    "Display the number of rows and columns in each dataFrame object."
   ]
  },
  {
   "cell_type": "code",
   "execution_count": 14,
   "id": "ba0d2034-f27c-4d2f-b6bf-9b00f4542038",
   "metadata": {
    "execution": {
     "iopub.execute_input": "2023-12-13T19:58:00.100644Z",
     "iopub.status.busy": "2023-12-13T19:58:00.100225Z",
     "iopub.status.idle": "2023-12-13T19:58:17.441318Z",
     "shell.execute_reply": "2023-12-13T19:58:17.440553Z",
     "shell.execute_reply.started": "2023-12-13T19:58:00.100598Z"
    }
   },
   "outputs": [
    {
     "data": {
      "application/vnd.jupyter.widget-view+json": {
       "model_id": "fa8dc2340bcd487ca2f009043516839d",
       "version_major": 2,
       "version_minor": 0
      },
      "text/plain": [
       "VBox()"
      ]
     },
     "metadata": {},
     "output_type": "display_data"
    },
    {
     "data": {
      "application/vnd.jupyter.widget-view+json": {
       "model_id": "",
       "version_major": 2,
       "version_minor": 0
      },
      "text/plain": [
       "FloatProgress(value=0.0, bar_style='info', description='Progress:', layout=Layout(height='25px', width='50%'),…"
      ]
     },
     "metadata": {},
     "output_type": "display_data"
    },
    {
     "name": "stdout",
     "output_type": "stream",
     "text": [
      "Number of columns in Name Basics table:  6\n",
      "Number of rows in Name Basics table:  9706922 \n",
      "\n",
      "Number of columns in Title Basics table:  9\n",
      "Number of rows in Title Basics table:  6321302 \n",
      "\n",
      "Number of columns in Title Principals table:  6\n",
      "Number of rows in Title Principals table:  36468817 \n",
      "\n",
      "Number of columns in Title Ratings table:  3\n",
      "Number of rows in Title Ratings table:  993153"
     ]
    }
   ],
   "source": [
    "print(\"Number of columns in Name Basics table: \", len(namedf.columns))\n",
    "print(\"Number of rows in Name Basics table: \", namedf.count(), '\\n')\n",
    "\n",
    "print(\"Number of columns in Title Basics table: \", len(titledf.columns))\n",
    "print(\"Number of rows in Title Basics table: \", titledf.count(), '\\n')\n",
    "\n",
    "print(\"Number of columns in Title Principals table: \", len(titleprincdf.columns))\n",
    "print(\"Number of rows in Title Principals table: \", titleprincdf.count(), '\\n')\n",
    "\n",
    "print(\"Number of columns in Title Ratings table: \", len(titleratdf.columns))\n",
    "print(\"Number of rows in Title Ratings table: \", titleratdf.count(), '\\n')"
   ]
  },
  {
   "cell_type": "code",
   "execution_count": 14,
   "id": "15b35f7a",
   "metadata": {
    "execution": {
     "iopub.execute_input": "2023-11-02T20:48:57.311304Z",
     "iopub.status.busy": "2023-11-02T20:48:57.311044Z",
     "iopub.status.idle": "2023-11-02T20:49:14.662624Z",
     "shell.execute_reply": "2023-11-02T20:49:14.661857Z",
     "shell.execute_reply.started": "2023-11-02T20:48:57.311272Z"
    },
    "tags": []
   },
   "outputs": [
    {
     "data": {
      "application/vnd.jupyter.widget-view+json": {
       "model_id": "86a10a0cb5134ca19af76de1cd902b9e",
       "version_major": 2,
       "version_minor": 0
      },
      "text/plain": [
       "VBox()"
      ]
     },
     "metadata": {},
     "output_type": "display_data"
    },
    {
     "data": {
      "application/vnd.jupyter.widget-view+json": {
       "model_id": "",
       "version_major": 2,
       "version_minor": 0
      },
      "text/plain": [
       "FloatProgress(value=0.0, bar_style='info', description='Progress:', layout=Layout(height='25px', width='50%'),…"
      ]
     },
     "metadata": {},
     "output_type": "display_data"
    },
    {
     "name": "stdout",
     "output_type": "stream",
     "text": [
      "Number of columns in Name Basics table: 6\n",
      "Number of rows in Name Basics table: 9706922\n",
      "\n",
      "Number of columns in Title Basics table: 9\n",
      "Number of rows in Title Basics table: 6321302\n",
      "\n",
      "Number of columns in Title Principles table: 6\n",
      "Number of rows in Title Principles table: 36468817\n",
      "\n",
      "Number of columns in Title Ratings table: 3\n",
      "Number of rows in Title Ratings table: 993153"
     ]
    }
   ],
   "source": []
  },
  {
   "cell_type": "markdown",
   "id": "b45c87a7",
   "metadata": {},
   "source": [
    "# PART 2 - Analyzing Genres"
   ]
  },
  {
   "cell_type": "markdown",
   "id": "37c839bd",
   "metadata": {},
   "source": [
    "Let's now answer this question: how many unique genres are represented in this dataset?\n",
    "\n",
    "Essentially, we have the genres per movie as a list - this is useful to quickly see what each movie might be represented as but it is difficult to easily answer questions such as:\n",
    "\n",
    "* How many movies are categorized as Comedy, for instance?\n",
    "* What are the top 20 most popular genres available?"
   ]
  },
  {
   "cell_type": "markdown",
   "id": "509eb185",
   "metadata": {},
   "source": [
    "## Association Table\n",
    "\n",
    "We need to \"break out\" these genres from the tconst? One common approach to take is to build an association table mapping a single tconst multiple times to each distinct genre.\n",
    "\n",
    "For instance, given the following:\n",
    "\n",
    "\n",
    "| tconst   | titleType  |genres |\n",
    "|----------|------------|-------|\n",
    "| abcd123  | XXX        |a,b,c  |\n",
    "\n",
    "We would like to derive something like:\n",
    "\n",
    "| tconst   |  titleType |genre |\n",
    "|----------|------------|------|\n",
    "| abcd123  | XXX        |a     |\n",
    "| abcd123  | XXX        |b     |\n",
    "| abcd123  | XXX        |c     |\n",
    "\n",
    "\n",
    "What this does is allow us to then perform a myriad of rollups and other analysis on this association table which can aid us in answering the questions asked above.\n",
    "\n",
    "Implement the code necessary to derive the table described from the data set"
   ]
  },
  {
   "cell_type": "code",
   "execution_count": 15,
   "id": "8e0c380c-aa38-4c35-9b74-bb49133974e8",
   "metadata": {
    "execution": {
     "iopub.execute_input": "2023-12-13T19:59:29.221100Z",
     "iopub.status.busy": "2023-12-13T19:59:29.220792Z",
     "iopub.status.idle": "2023-12-13T19:59:38.530073Z",
     "shell.execute_reply": "2023-12-13T19:59:38.529190Z",
     "shell.execute_reply.started": "2023-12-13T19:59:29.221075Z"
    }
   },
   "outputs": [
    {
     "data": {
      "application/vnd.jupyter.widget-view+json": {
       "model_id": "672fa193fcd5432995b15bf5b78a70f6",
       "version_major": 2,
       "version_minor": 0
      },
      "text/plain": [
       "VBox()"
      ]
     },
     "metadata": {},
     "output_type": "display_data"
    },
    {
     "data": {
      "application/vnd.jupyter.widget-view+json": {
       "model_id": "",
       "version_major": 2,
       "version_minor": 0
      },
      "text/plain": [
       "FloatProgress(value=0.0, bar_style='info', description='Progress:', layout=Layout(height='25px', width='50%'),…"
      ]
     },
     "metadata": {},
     "output_type": "display_data"
    },
    {
     "name": "stdout",
     "output_type": "stream",
     "text": [
      "+---------+---------+--------------------+\n",
      "|   tconst|titleType|              genres|\n",
      "+---------+---------+--------------------+\n",
      "|tt0000001|    short|   Documentary,Short|\n",
      "|tt0000002|    short|     Animation,Short|\n",
      "|tt0000003|    short|Animation,Comedy,...|\n",
      "|tt0000004|    short|     Animation,Short|\n",
      "|tt0000005|    short|        Comedy,Short|\n",
      "+---------+---------+--------------------+\n",
      "only showing top 5 rows"
     ]
    }
   ],
   "source": [
    "titledf.select(\"tconst\", \"titleType\", \"genres\").show(5)"
   ]
  },
  {
   "cell_type": "code",
   "execution_count": 15,
   "id": "6da24c15",
   "metadata": {
    "execution": {
     "iopub.execute_input": "2023-11-02T20:49:14.664152Z",
     "iopub.status.busy": "2023-11-02T20:49:14.663918Z",
     "iopub.status.idle": "2023-11-02T20:49:14.925894Z",
     "shell.execute_reply": "2023-11-02T20:49:14.925026Z",
     "shell.execute_reply.started": "2023-11-02T20:49:14.664120Z"
    },
    "tags": []
   },
   "outputs": [
    {
     "data": {
      "application/vnd.jupyter.widget-view+json": {
       "model_id": "e8ba849c56e64bfda20c40fc42870258",
       "version_major": 2,
       "version_minor": 0
      },
      "text/plain": [
       "VBox()"
      ]
     },
     "metadata": {},
     "output_type": "display_data"
    },
    {
     "data": {
      "application/vnd.jupyter.widget-view+json": {
       "model_id": "",
       "version_major": 2,
       "version_minor": 0
      },
      "text/plain": [
       "FloatProgress(value=0.0, bar_style='info', description='Progress:', layout=Layout(height='25px', width='50%'),…"
      ]
     },
     "metadata": {},
     "output_type": "display_data"
    },
    {
     "name": "stdout",
     "output_type": "stream",
     "text": [
      "+---------+---------+--------------------+\n",
      "|   tconst|titleType|              genres|\n",
      "+---------+---------+--------------------+\n",
      "|tt0000001|    short|   Documentary,Short|\n",
      "|tt0000002|    short|     Animation,Short|\n",
      "|tt0000003|    short|Animation,Comedy,...|\n",
      "|tt0000004|    short|     Animation,Short|\n",
      "|tt0000005|    short|        Comedy,Short|\n",
      "+---------+---------+--------------------+\n",
      "only showing top 5 rows"
     ]
    }
   ],
   "source": []
  },
  {
   "cell_type": "markdown",
   "id": "7e215c7e",
   "metadata": {},
   "source": [
    "Display the first 10 rows of your association table below"
   ]
  },
  {
   "cell_type": "code",
   "execution_count": 16,
   "id": "4d607628-29a2-4abb-a9f0-6f21784d974c",
   "metadata": {
    "execution": {
     "iopub.execute_input": "2023-12-13T19:59:59.754585Z",
     "iopub.status.busy": "2023-12-13T19:59:59.754247Z",
     "iopub.status.idle": "2023-12-13T20:00:00.515350Z",
     "shell.execute_reply": "2023-12-13T20:00:00.514535Z",
     "shell.execute_reply.started": "2023-12-13T19:59:59.754557Z"
    }
   },
   "outputs": [
    {
     "data": {
      "application/vnd.jupyter.widget-view+json": {
       "model_id": "48ad20af30124eab8cab63fca5843ce2",
       "version_major": 2,
       "version_minor": 0
      },
      "text/plain": [
       "VBox()"
      ]
     },
     "metadata": {},
     "output_type": "display_data"
    },
    {
     "data": {
      "application/vnd.jupyter.widget-view+json": {
       "model_id": "",
       "version_major": 2,
       "version_minor": 0
      },
      "text/plain": [
       "FloatProgress(value=0.0, bar_style='info', description='Progress:', layout=Layout(height='25px', width='50%'),…"
      ]
     },
     "metadata": {},
     "output_type": "display_data"
    },
    {
     "name": "stdout",
     "output_type": "stream",
     "text": [
      "+---------+---------+-----------+\n",
      "|   tconst|titleType|      genre|\n",
      "+---------+---------+-----------+\n",
      "|tt0000001|    short|Documentary|\n",
      "|tt0000001|    short|      Short|\n",
      "|tt0000002|    short|  Animation|\n",
      "|tt0000002|    short|      Short|\n",
      "|tt0000003|    short|  Animation|\n",
      "|tt0000003|    short|     Comedy|\n",
      "|tt0000003|    short|    Romance|\n",
      "|tt0000004|    short|  Animation|\n",
      "|tt0000004|    short|      Short|\n",
      "|tt0000005|    short|     Comedy|\n",
      "+---------+---------+-----------+\n",
      "only showing top 10 rows"
     ]
    }
   ],
   "source": [
    "from pyspark.sql.functions import *\n",
    "# Split genres column into a list\n",
    "df_with_genre_list = titledf.withColumn(\"genres\", split(\"genres\", \",\"))\n",
    "\n",
    "# Explode genres list in different rows\n",
    "separate_genre_df = df_with_genre_list.withColumn(\"genre\", explode(\"genres\"))\n",
    "\n",
    "separate_genre_df.select(\"tconst\", \"titleType\", \"genre\").show(10)"
   ]
  },
  {
   "cell_type": "code",
   "execution_count": 16,
   "id": "eee1cc98",
   "metadata": {
    "execution": {
     "iopub.execute_input": "2023-11-02T20:49:14.927335Z",
     "iopub.status.busy": "2023-11-02T20:49:14.926940Z",
     "iopub.status.idle": "2023-11-02T20:49:15.704703Z",
     "shell.execute_reply": "2023-11-02T20:49:15.703912Z",
     "shell.execute_reply.started": "2023-11-02T20:49:14.927298Z"
    },
    "tags": []
   },
   "outputs": [
    {
     "data": {
      "application/vnd.jupyter.widget-view+json": {
       "model_id": "5a183558676145d7be65b81ace54ef13",
       "version_major": 2,
       "version_minor": 0
      },
      "text/plain": [
       "VBox()"
      ]
     },
     "metadata": {},
     "output_type": "display_data"
    },
    {
     "data": {
      "application/vnd.jupyter.widget-view+json": {
       "model_id": "",
       "version_major": 2,
       "version_minor": 0
      },
      "text/plain": [
       "FloatProgress(value=0.0, bar_style='info', description='Progress:', layout=Layout(height='25px', width='50%'),…"
      ]
     },
     "metadata": {},
     "output_type": "display_data"
    },
    {
     "name": "stdout",
     "output_type": "stream",
     "text": [
      "+---------+---------+-----------+\n",
      "|   tconst|titleType|      genre|\n",
      "+---------+---------+-----------+\n",
      "|tt0000001|    short|Documentary|\n",
      "|tt0000001|    short|      Short|\n",
      "|tt0000002|    short|  Animation|\n",
      "|tt0000002|    short|      Short|\n",
      "|tt0000003|    short|  Animation|\n",
      "|tt0000003|    short|     Comedy|\n",
      "|tt0000003|    short|    Romance|\n",
      "|tt0000004|    short|  Animation|\n",
      "|tt0000004|    short|      Short|\n",
      "|tt0000005|    short|     Comedy|\n",
      "+---------+---------+-----------+\n",
      "only showing top 10 rows"
     ]
    }
   ],
   "source": []
  },
  {
   "cell_type": "markdown",
   "id": "9a80280d",
   "metadata": {},
   "source": [
    "## Total Unique Genres"
   ]
  },
  {
   "cell_type": "markdown",
   "id": "b0db9e0c",
   "metadata": {},
   "source": [
    "**What is the total number of unique genres available in the movie title type?**"
   ]
  },
  {
   "cell_type": "code",
   "execution_count": 17,
   "id": "9418b343-fb0d-402c-8440-c1a4d8d6ca17",
   "metadata": {
    "execution": {
     "iopub.execute_input": "2023-12-13T20:00:33.584752Z",
     "iopub.status.busy": "2023-12-13T20:00:33.584394Z",
     "iopub.status.idle": "2023-12-13T20:00:42.887496Z",
     "shell.execute_reply": "2023-12-13T20:00:42.886588Z",
     "shell.execute_reply.started": "2023-12-13T20:00:33.584725Z"
    }
   },
   "outputs": [
    {
     "data": {
      "application/vnd.jupyter.widget-view+json": {
       "model_id": "fa641419599a47e6be50f58b130cfba8",
       "version_major": 2,
       "version_minor": 0
      },
      "text/plain": [
       "VBox()"
      ]
     },
     "metadata": {},
     "output_type": "display_data"
    },
    {
     "data": {
      "application/vnd.jupyter.widget-view+json": {
       "model_id": "",
       "version_major": 2,
       "version_minor": 0
      },
      "text/plain": [
       "FloatProgress(value=0.0, bar_style='info', description='Progress:', layout=Layout(height='25px', width='50%'),…"
      ]
     },
     "metadata": {},
     "output_type": "display_data"
    },
    {
     "name": "stdout",
     "output_type": "stream",
     "text": [
      "Total number of unique genres in movie title type: 29"
     ]
    }
   ],
   "source": [
    "movie_data= separate_genre_df.filter(\"titleType = 'movie'\").select(\"genre\",\"tconst\")\n",
    "\n",
    "num_unique_genres_movie = movie_data.select(\"genre\").distinct().count()\n",
    "\n",
    "print(\"Total number of unique genres in movie title type:\", num_unique_genres_movie)"
   ]
  },
  {
   "cell_type": "code",
   "execution_count": 17,
   "id": "c6044252",
   "metadata": {
    "execution": {
     "iopub.execute_input": "2023-11-02T20:49:15.705977Z",
     "iopub.status.busy": "2023-11-02T20:49:15.705748Z",
     "iopub.status.idle": "2023-11-02T20:49:23.070577Z",
     "shell.execute_reply": "2023-11-02T20:49:23.069788Z",
     "shell.execute_reply.started": "2023-11-02T20:49:15.705944Z"
    },
    "tags": []
   },
   "outputs": [
    {
     "data": {
      "application/vnd.jupyter.widget-view+json": {
       "model_id": "cbc63d74411642fe893638de4de05e0e",
       "version_major": 2,
       "version_minor": 0
      },
      "text/plain": [
       "VBox()"
      ]
     },
     "metadata": {},
     "output_type": "display_data"
    },
    {
     "data": {
      "application/vnd.jupyter.widget-view+json": {
       "model_id": "",
       "version_major": 2,
       "version_minor": 0
      },
      "text/plain": [
       "FloatProgress(value=0.0, bar_style='info', description='Progress:', layout=Layout(height='25px', width='50%'),…"
      ]
     },
     "metadata": {},
     "output_type": "display_data"
    },
    {
     "name": "stdout",
     "output_type": "stream",
     "text": [
      "29"
     ]
    }
   ],
   "source": []
  },
  {
   "cell_type": "markdown",
   "id": "5819adcc",
   "metadata": {},
   "source": [
    "**What are the unique genres available?**"
   ]
  },
  {
   "cell_type": "code",
   "execution_count": 20,
   "id": "7c89438f-d82a-4522-9a53-0df7c4063dbd",
   "metadata": {
    "execution": {
     "iopub.execute_input": "2023-12-13T20:01:52.803084Z",
     "iopub.status.busy": "2023-12-13T20:01:52.800997Z",
     "iopub.status.idle": "2023-12-13T20:02:00.111919Z",
     "shell.execute_reply": "2023-12-13T20:02:00.111072Z",
     "shell.execute_reply.started": "2023-12-13T20:01:52.803042Z"
    },
    "tags": []
   },
   "outputs": [
    {
     "data": {
      "application/vnd.jupyter.widget-view+json": {
       "model_id": "c96152c857ef4c9d94c0f7c5d41fa5bf",
       "version_major": 2,
       "version_minor": 0
      },
      "text/plain": [
       "VBox()"
      ]
     },
     "metadata": {},
     "output_type": "display_data"
    },
    {
     "data": {
      "application/vnd.jupyter.widget-view+json": {
       "model_id": "",
       "version_major": 2,
       "version_minor": 0
      },
      "text/plain": [
       "FloatProgress(value=0.0, bar_style='info', description='Progress:', layout=Layout(height='25px', width='50%'),…"
      ]
     },
     "metadata": {},
     "output_type": "display_data"
    },
    {
     "name": "stdout",
     "output_type": "stream",
     "text": [
      "+-----------+\n",
      "|genre      |\n",
      "+-----------+\n",
      "|Mystery    |\n",
      "|Musical    |\n",
      "|Sport      |\n",
      "|Action     |\n",
      "|Talk-Show  |\n",
      "|Romance    |\n",
      "|Thriller   |\n",
      "|\\N         |\n",
      "|Reality-TV |\n",
      "|Family     |\n",
      "|Fantasy    |\n",
      "|History    |\n",
      "|Animation  |\n",
      "|Film-Noir  |\n",
      "|Short      |\n",
      "|Sci-Fi     |\n",
      "|News       |\n",
      "|Drama      |\n",
      "|Documentary|\n",
      "|Western    |\n",
      "|Comedy     |\n",
      "|Crime      |\n",
      "|War        |\n",
      "|Game-Show  |\n",
      "|Adult      |\n",
      "|Music      |\n",
      "|Biography  |\n",
      "|Adventure  |\n",
      "|Horror     |\n",
      "+-----------+"
     ]
    }
   ],
   "source": [
    "movie_data.select(\"genre\").distinct().show(29, truncate=False)"
   ]
  },
  {
   "cell_type": "code",
   "execution_count": 18,
   "id": "2ecdf3ad",
   "metadata": {
    "execution": {
     "iopub.execute_input": "2023-11-02T20:49:23.072047Z",
     "iopub.status.busy": "2023-11-02T20:49:23.071764Z",
     "iopub.status.idle": "2023-11-02T20:49:30.368360Z",
     "shell.execute_reply": "2023-11-02T20:49:30.367552Z",
     "shell.execute_reply.started": "2023-11-02T20:49:23.072014Z"
    },
    "tags": []
   },
   "outputs": [
    {
     "data": {
      "application/vnd.jupyter.widget-view+json": {
       "model_id": "badbb476edd14d03ba5f6bbabedc7e0d",
       "version_major": 2,
       "version_minor": 0
      },
      "text/plain": [
       "VBox()"
      ]
     },
     "metadata": {},
     "output_type": "display_data"
    },
    {
     "data": {
      "application/vnd.jupyter.widget-view+json": {
       "model_id": "",
       "version_major": 2,
       "version_minor": 0
      },
      "text/plain": [
       "FloatProgress(value=0.0, bar_style='info', description='Progress:', layout=Layout(height='25px', width='50%'),…"
      ]
     },
     "metadata": {},
     "output_type": "display_data"
    },
    {
     "name": "stdout",
     "output_type": "stream",
     "text": [
      "+-----------+\n",
      "|genre      |\n",
      "+-----------+\n",
      "|Mystery    |\n",
      "|Musical    |\n",
      "|Sport      |\n",
      "|Action     |\n",
      "|Talk-Show  |\n",
      "|Romance    |\n",
      "|Thriller   |\n",
      "|\\N         |\n",
      "|Reality-TV |\n",
      "|Family     |\n",
      "|Fantasy    |\n",
      "|History    |\n",
      "|Animation  |\n",
      "|Film-Noir  |\n",
      "|Short      |\n",
      "|Sci-Fi     |\n",
      "|News       |\n",
      "|Drama      |\n",
      "|Documentary|\n",
      "|Western    |\n",
      "|Comedy     |\n",
      "|Crime      |\n",
      "|War        |\n",
      "|Game-Show  |\n",
      "|Adult      |\n",
      "|Music      |\n",
      "|Biography  |\n",
      "|Adventure  |\n",
      "|Horror     |\n",
      "+-----------+"
     ]
    }
   ],
   "source": []
  },
  {
   "cell_type": "markdown",
   "id": "4c5f3022",
   "metadata": {},
   "source": [
    "**Oops! Something is off!**"
   ]
  },
  {
   "cell_type": "code",
   "execution_count": 21,
   "id": "43b4321b-73c2-4c02-9c49-f0615a1064f1",
   "metadata": {
    "execution": {
     "iopub.execute_input": "2023-12-13T20:03:57.299554Z",
     "iopub.status.busy": "2023-12-13T20:03:57.299165Z",
     "iopub.status.idle": "2023-12-13T20:04:14.629571Z",
     "shell.execute_reply": "2023-12-13T20:04:14.628651Z",
     "shell.execute_reply.started": "2023-12-13T20:03:57.299526Z"
    }
   },
   "outputs": [
    {
     "data": {
      "application/vnd.jupyter.widget-view+json": {
       "model_id": "230358d573e8401795a9d7380a37ba5f",
       "version_major": 2,
       "version_minor": 0
      },
      "text/plain": [
       "VBox()"
      ]
     },
     "metadata": {},
     "output_type": "display_data"
    },
    {
     "data": {
      "application/vnd.jupyter.widget-view+json": {
       "model_id": "",
       "version_major": 2,
       "version_minor": 0
      },
      "text/plain": [
       "FloatProgress(value=0.0, bar_style='info', description='Progress:', layout=Layout(height='25px', width='50%'),…"
      ]
     },
     "metadata": {},
     "output_type": "display_data"
    },
    {
     "name": "stdout",
     "output_type": "stream",
     "text": [
      "+-----------+\n",
      "|genre      |\n",
      "+-----------+\n",
      "|Mystery    |\n",
      "|Musical    |\n",
      "|Sport      |\n",
      "|Action     |\n",
      "|Talk-Show  |\n",
      "|Romance    |\n",
      "|Thriller   |\n",
      "|Reality-TV |\n",
      "|Family     |\n",
      "|Fantasy    |\n",
      "|History    |\n",
      "|Animation  |\n",
      "|Film-Noir  |\n",
      "|Short      |\n",
      "|Sci-Fi     |\n",
      "|News       |\n",
      "|Drama      |\n",
      "|Documentary|\n",
      "|Western    |\n",
      "|Comedy     |\n",
      "|Crime      |\n",
      "|War        |\n",
      "|Game-Show  |\n",
      "|Adult      |\n",
      "|Music      |\n",
      "|Biography  |\n",
      "|Adventure  |\n",
      "|Horror     |\n",
      "+-----------+"
     ]
    }
   ],
   "source": [
    "movie_data=movie_data.filter(col(\"genre\") != \"\\\\N\")\n",
    "movie_data.select(\"genre\").distinct().show(29, truncate=False)"
   ]
  },
  {
   "cell_type": "code",
   "execution_count": 19,
   "id": "e699b5ae",
   "metadata": {
    "execution": {
     "iopub.execute_input": "2023-11-02T20:49:30.369447Z",
     "iopub.status.busy": "2023-11-02T20:49:30.369268Z",
     "iopub.status.idle": "2023-11-02T20:49:37.659407Z",
     "shell.execute_reply": "2023-11-02T20:49:37.658720Z",
     "shell.execute_reply.started": "2023-11-02T20:49:30.369425Z"
    },
    "tags": []
   },
   "outputs": [
    {
     "data": {
      "application/vnd.jupyter.widget-view+json": {
       "model_id": "0ac937ca9d8a44e9a6438a483f911f2b",
       "version_major": 2,
       "version_minor": 0
      },
      "text/plain": [
       "VBox()"
      ]
     },
     "metadata": {},
     "output_type": "display_data"
    },
    {
     "data": {
      "application/vnd.jupyter.widget-view+json": {
       "model_id": "",
       "version_major": 2,
       "version_minor": 0
      },
      "text/plain": [
       "FloatProgress(value=0.0, bar_style='info', description='Progress:', layout=Layout(height='25px', width='50%'),…"
      ]
     },
     "metadata": {},
     "output_type": "display_data"
    },
    {
     "name": "stdout",
     "output_type": "stream",
     "text": [
      "+-----------+\n",
      "|genre      |\n",
      "+-----------+\n",
      "|Mystery    |\n",
      "|Musical    |\n",
      "|Sport      |\n",
      "|Action     |\n",
      "|Talk-Show  |\n",
      "|Romance    |\n",
      "|Thriller   |\n",
      "|Reality-TV |\n",
      "|Family     |\n",
      "|Fantasy    |\n",
      "|History    |\n",
      "|Animation  |\n",
      "|Film-Noir  |\n",
      "|Short      |\n",
      "|Sci-Fi     |\n",
      "|News       |\n",
      "|Drama      |\n",
      "|Documentary|\n",
      "|Western    |\n",
      "|Comedy     |\n",
      "|Crime      |\n",
      "|War        |\n",
      "|Game-Show  |\n",
      "|Adult      |\n",
      "|Music      |\n",
      "|Biography  |\n",
      "|Adventure  |\n",
      "|Horror     |\n",
      "+-----------+"
     ]
    }
   ],
   "source": []
  },
  {
   "cell_type": "markdown",
   "id": "b7d29ebd",
   "metadata": {},
   "source": [
    "## Top Genres by Movies\n",
    "\n",
    "Now let's find the highest rated genres in this dataset by rolling up genres."
   ]
  },
  {
   "cell_type": "markdown",
   "id": "de4c28e3",
   "metadata": {},
   "source": [
    "### Average Rating / Genre"
   ]
  },
  {
   "cell_type": "markdown",
   "id": "49f1153c",
   "metadata": {},
   "source": [
    "So now, let's unroll our distinct count a bit and display the per average rating value of per genre.\n",
    "\n",
    "The expected output should be:\n",
    "\n",
    "| genre | averageRating |\n",
    "|-------------|------------|\n",
    "| a     | 8.5         |\n",
    "| b     | 6.3         |\n",
    "| c     | 7.2         |\n",
    "\n",
    "Or something to that effect."
   ]
  },
  {
   "cell_type": "markdown",
   "id": "15423dc6",
   "metadata": {},
   "source": [
    "First, let's join our two dataframes (movie ratings and genres) by tconst"
   ]
  },
  {
   "cell_type": "code",
   "execution_count": 22,
   "id": "a6f2480d-b33b-427e-bf4e-66ed1fb3b6b6",
   "metadata": {
    "execution": {
     "iopub.execute_input": "2023-12-13T20:04:55.559032Z",
     "iopub.status.busy": "2023-12-13T20:04:55.558735Z",
     "iopub.status.idle": "2023-12-13T20:05:04.853179Z",
     "shell.execute_reply": "2023-12-13T20:05:04.852258Z",
     "shell.execute_reply.started": "2023-12-13T20:04:55.559007Z"
    }
   },
   "outputs": [
    {
     "data": {
      "application/vnd.jupyter.widget-view+json": {
       "model_id": "2d2d18f072764aa9901e0273b961e2f6",
       "version_major": 2,
       "version_minor": 0
      },
      "text/plain": [
       "VBox()"
      ]
     },
     "metadata": {},
     "output_type": "display_data"
    },
    {
     "data": {
      "application/vnd.jupyter.widget-view+json": {
       "model_id": "",
       "version_major": 2,
       "version_minor": 0
      },
      "text/plain": [
       "FloatProgress(value=0.0, bar_style='info', description='Progress:', layout=Layout(height='25px', width='50%'),…"
      ]
     },
     "metadata": {},
     "output_type": "display_data"
    },
    {
     "name": "stdout",
     "output_type": "stream",
     "text": [
      "+---------+-------------+\n",
      "|    genre|averageRating|\n",
      "+---------+-------------+\n",
      "|    Drama|          4.2|\n",
      "|    Drama|          4.2|\n",
      "|Biography|          4.1|\n",
      "|    Drama|          4.1|\n",
      "|  History|          4.1|\n",
      "|    Drama|          5.7|\n",
      "|    Drama|          4.6|\n",
      "|  History|          4.6|\n",
      "|Biography|          6.3|\n",
      "|    Drama|          6.3|\n",
      "+---------+-------------+\n",
      "only showing top 10 rows"
     ]
    }
   ],
   "source": [
    "joined_df = titleratdf.join(movie_data, \"tconst\")\n",
    "joined_df.select(\"genre\", \"averageRating\").show(10)"
   ]
  },
  {
   "cell_type": "code",
   "execution_count": 20,
   "id": "71b5d21b",
   "metadata": {
    "execution": {
     "iopub.execute_input": "2023-11-02T20:49:37.660660Z",
     "iopub.status.busy": "2023-11-02T20:49:37.660419Z",
     "iopub.status.idle": "2023-11-02T20:49:46.947954Z",
     "shell.execute_reply": "2023-11-02T20:49:46.947217Z",
     "shell.execute_reply.started": "2023-11-02T20:49:37.660628Z"
    },
    "tags": []
   },
   "outputs": [
    {
     "data": {
      "application/vnd.jupyter.widget-view+json": {
       "model_id": "c2f6da34e99349b0b72c8c9c9ea861f5",
       "version_major": 2,
       "version_minor": 0
      },
      "text/plain": [
       "VBox()"
      ]
     },
     "metadata": {},
     "output_type": "display_data"
    },
    {
     "data": {
      "application/vnd.jupyter.widget-view+json": {
       "model_id": "",
       "version_major": 2,
       "version_minor": 0
      },
      "text/plain": [
       "FloatProgress(value=0.0, bar_style='info', description='Progress:', layout=Layout(height='25px', width='50%'),…"
      ]
     },
     "metadata": {},
     "output_type": "display_data"
    },
    {
     "name": "stdout",
     "output_type": "stream",
     "text": [
      "+---------+-------------+\n",
      "|    genre|averageRating|\n",
      "+---------+-------------+\n",
      "|    Drama|          4.2|\n",
      "|    Drama|          4.2|\n",
      "|Biography|          4.1|\n",
      "|    Drama|          4.1|\n",
      "|  History|          4.1|\n",
      "|    Drama|          5.7|\n",
      "|    Drama|          4.6|\n",
      "|  History|          4.6|\n",
      "|Biography|          6.3|\n",
      "|    Drama|          6.3|\n",
      "+---------+-------------+\n",
      "only showing top 10 rows"
     ]
    }
   ],
   "source": []
  },
  {
   "cell_type": "markdown",
   "id": "98094ca8",
   "metadata": {},
   "source": [
    "Now, let's aggregate along the averageRating column to get a resultant dataframe that displays average rating per genre."
   ]
  },
  {
   "cell_type": "code",
   "execution_count": 23,
   "id": "b14b691f-434a-4bf7-b943-b2c19872f620",
   "metadata": {
    "execution": {
     "iopub.execute_input": "2023-12-13T20:06:06.220743Z",
     "iopub.status.busy": "2023-12-13T20:06:06.220428Z",
     "iopub.status.idle": "2023-12-13T20:06:27.562957Z",
     "shell.execute_reply": "2023-12-13T20:06:27.562222Z",
     "shell.execute_reply.started": "2023-12-13T20:06:06.220718Z"
    }
   },
   "outputs": [
    {
     "data": {
      "application/vnd.jupyter.widget-view+json": {
       "model_id": "1c6bae38f9504f5b98dd7bf1769c8f4a",
       "version_major": 2,
       "version_minor": 0
      },
      "text/plain": [
       "VBox()"
      ]
     },
     "metadata": {},
     "output_type": "display_data"
    },
    {
     "data": {
      "application/vnd.jupyter.widget-view+json": {
       "model_id": "",
       "version_major": 2,
       "version_minor": 0
      },
      "text/plain": [
       "FloatProgress(value=0.0, bar_style='info', description='Progress:', layout=Layout(height='25px', width='50%'),…"
      ]
     },
     "metadata": {},
     "output_type": "display_data"
    },
    {
     "name": "stdout",
     "output_type": "stream",
     "text": [
      "+-----------+------------------+\n",
      "|genre      |averageRating     |\n",
      "+-----------+------------------+\n",
      "|Mystery    |5.9404375359815775|\n",
      "|Musical    |6.2032460545193695|\n",
      "|Action     |5.718734069668649 |\n",
      "|Sport      |6.600145190562615 |\n",
      "|Romance    |6.1257141803973605|\n",
      "|Thriller   |5.625967566447334 |\n",
      "|Family     |6.250560452715202 |\n",
      "|Fantasy    |5.92482076283338  |\n",
      "|History    |6.822718115605145 |\n",
      "|Animation  |6.326203750633554 |\n",
      "|Film-Noir  |6.636246786632392 |\n",
      "|Sci-Fi     |5.325150008571917 |\n",
      "|News       |7.2009160305343505|\n",
      "|Drama      |6.2880802103879025|\n",
      "|Documentary|7.245469798657718 |\n",
      "|Western    |5.948970989337962 |\n",
      "|Comedy     |5.94136310800413  |\n",
      "|Crime      |6.026013332684543 |\n",
      "|War        |6.483807030665668 |\n",
      "|Adult      |5.721742584745762 |\n",
      "+-----------+------------------+\n",
      "only showing top 20 rows"
     ]
    }
   ],
   "source": [
    "genre_avg_rating_df = joined_df.groupBy(\"genre\").agg(avg(\"averageRating\").alias(\"averageRating\"))\n",
    "genre_avg_rating_df.show(truncate=False)"
   ]
  },
  {
   "cell_type": "code",
   "execution_count": 21,
   "id": "317c522c",
   "metadata": {
    "execution": {
     "iopub.execute_input": "2023-11-02T20:49:46.950965Z",
     "iopub.status.busy": "2023-11-02T20:49:46.950771Z",
     "iopub.status.idle": "2023-11-02T20:49:56.239705Z",
     "shell.execute_reply": "2023-11-02T20:49:56.238983Z",
     "shell.execute_reply.started": "2023-11-02T20:49:46.950923Z"
    },
    "tags": []
   },
   "outputs": [
    {
     "data": {
      "application/vnd.jupyter.widget-view+json": {
       "model_id": "9dddb6357c75433e9b8390d2033ebc99",
       "version_major": 2,
       "version_minor": 0
      },
      "text/plain": [
       "VBox()"
      ]
     },
     "metadata": {},
     "output_type": "display_data"
    },
    {
     "data": {
      "application/vnd.jupyter.widget-view+json": {
       "model_id": "",
       "version_major": 2,
       "version_minor": 0
      },
      "text/plain": [
       "FloatProgress(value=0.0, bar_style='info', description='Progress:', layout=Layout(height='25px', width='50%'),…"
      ]
     },
     "metadata": {},
     "output_type": "display_data"
    },
    {
     "name": "stdout",
     "output_type": "stream",
     "text": [
      "+-----------+-----------------+\n",
      "|genre      |avg_rating       |\n",
      "+-----------+-----------------+\n",
      "|Mystery    |5.940437537126316|\n",
      "|Musical    |6.203246053185319|\n",
      "|Action     |5.718734067904495|\n",
      "|Sport      |6.600145190943391|\n",
      "|Romance    |6.125714179294426|\n",
      "|Thriller   |5.625967567519544|\n",
      "|Family     |6.250560452699635|\n",
      "|Fantasy    |5.924820762891499|\n",
      "|History    |6.822718117193864|\n",
      "|Animation  |6.326203749467441|\n",
      "|Film-Noir  |6.636246780503378|\n",
      "|Sci-Fi     |5.325150006900168|\n",
      "|News       |7.200916040944689|\n",
      "|Drama      |6.288080211097538|\n",
      "|Documentary|7.245469805371099|\n",
      "|Western    |5.948970991005059|\n",
      "|Comedy     |5.941363107822231|\n",
      "|Crime      |6.026013333109149|\n",
      "|War        |6.483807036278403|\n",
      "|Adult      |5.721742579082059|\n",
      "+-----------+-----------------+\n",
      "only showing top 20 rows"
     ]
    }
   ],
   "source": []
  },
  {
   "cell_type": "markdown",
   "id": "b1fd4e61",
   "metadata": {},
   "source": [
    "### Horizontal Bar Chart of Top Genres\n",
    "\n",
    "With this data available, let us now build a barchart of all genres \n",
    "\n",
    "**HINT**: don't forget about the matplotlib magic!\n",
    "\n",
    "```\n",
    "%matplot plt\n",
    "```"
   ]
  },
  {
   "cell_type": "code",
   "execution_count": 24,
   "id": "6bc9c88c-6f6b-4b8b-a431-817738f5e5d4",
   "metadata": {
    "execution": {
     "iopub.execute_input": "2023-12-13T20:07:01.181477Z",
     "iopub.status.busy": "2023-12-13T20:07:01.181131Z",
     "iopub.status.idle": "2023-12-13T20:07:10.477586Z",
     "shell.execute_reply": "2023-12-13T20:07:10.476879Z",
     "shell.execute_reply.started": "2023-12-13T20:07:01.181450Z"
    }
   },
   "outputs": [
    {
     "data": {
      "application/vnd.jupyter.widget-view+json": {
       "model_id": "0798ca21fd144b40857c2092fec61895",
       "version_major": 2,
       "version_minor": 0
      },
      "text/plain": [
       "VBox()"
      ]
     },
     "metadata": {},
     "output_type": "display_data"
    },
    {
     "data": {
      "application/vnd.jupyter.widget-view+json": {
       "model_id": "",
       "version_major": 2,
       "version_minor": 0
      },
      "text/plain": [
       "FloatProgress(value=0.0, bar_style='info', description='Progress:', layout=Layout(height='25px', width='50%'),…"
      ]
     },
     "metadata": {},
     "output_type": "display_data"
    },
    {
     "name": "stdout",
     "output_type": "stream",
     "text": [
      "+-----------+------------------+\n",
      "|genre      |averageRating     |\n",
      "+-----------+------------------+\n",
      "|Short      |7.260000000000001 |\n",
      "|Documentary|7.245469798657718 |\n",
      "|News       |7.2009160305343505|\n",
      "|Biography  |6.983637640449436 |\n",
      "|Game-Show  |6.975             |\n",
      "|History    |6.822718115605145 |\n",
      "|Music      |6.752020202020201 |\n",
      "|Film-Noir  |6.636246786632392 |\n",
      "|Sport      |6.600145190562615 |\n",
      "|War        |6.483807030665668 |\n",
      "|Reality-TV |6.379310344827586 |\n",
      "|Animation  |6.326203750633554 |\n",
      "|Drama      |6.2880802103879025|\n",
      "|Family     |6.250560452715202 |\n",
      "|Musical    |6.2032460545193695|\n",
      "|Romance    |6.1257141803973605|\n",
      "|Crime      |6.026013332684543 |\n",
      "|Western    |5.948970989337962 |\n",
      "|Comedy     |5.94136310800413  |\n",
      "|Mystery    |5.9404375359815775|\n",
      "+-----------+------------------+\n",
      "only showing top 20 rows"
     ]
    }
   ],
   "source": [
    "genre_avg_rating_df.orderBy(col(\"averageRating\").desc()).show(truncate=False)"
   ]
  },
  {
   "cell_type": "code",
   "execution_count": 22,
   "id": "2865ccdb",
   "metadata": {
    "execution": {
     "iopub.execute_input": "2023-11-02T20:49:56.241876Z",
     "iopub.status.busy": "2023-11-02T20:49:56.241620Z",
     "iopub.status.idle": "2023-11-02T20:50:05.525877Z",
     "shell.execute_reply": "2023-11-02T20:50:05.525104Z",
     "shell.execute_reply.started": "2023-11-02T20:49:56.241842Z"
    },
    "tags": []
   },
   "outputs": [
    {
     "data": {
      "application/vnd.jupyter.widget-view+json": {
       "model_id": "ebf9975d0559465a8be4114698d10c00",
       "version_major": 2,
       "version_minor": 0
      },
      "text/plain": [
       "VBox()"
      ]
     },
     "metadata": {},
     "output_type": "display_data"
    },
    {
     "data": {
      "application/vnd.jupyter.widget-view+json": {
       "model_id": "",
       "version_major": 2,
       "version_minor": 0
      },
      "text/plain": [
       "FloatProgress(value=0.0, bar_style='info', description='Progress:', layout=Layout(height='25px', width='50%'),…"
      ]
     },
     "metadata": {},
     "output_type": "display_data"
    },
    {
     "name": "stdout",
     "output_type": "stream",
     "text": [
      "+-----------+-----------------+\n",
      "|genre      |avg_rating       |\n",
      "+-----------+-----------------+\n",
      "|Short      |7.259999942779541|\n",
      "|Documentary|7.245469805371099|\n",
      "|News       |7.200916040944689|\n",
      "|Biography  |6.983637643044585|\n",
      "|Game-Show  |6.974999904632568|\n",
      "|History    |6.822718117193864|\n",
      "|Music      |6.752020207214588|\n",
      "|Film-Noir  |6.636246780503378|\n",
      "|Sport      |6.600145190943391|\n",
      "|War        |6.483807036278403|\n",
      "|Reality-TV |6.379310377712907|\n",
      "|Animation  |6.326203749467441|\n",
      "|Drama      |6.288080211097538|\n",
      "|Family     |6.250560452699635|\n",
      "|Musical    |6.203246053185319|\n",
      "|Romance    |6.125714179294426|\n",
      "|Crime      |6.026013333109149|\n",
      "|Western    |5.948970991005059|\n",
      "|Comedy     |5.941363107822231|\n",
      "|Mystery    |5.940437537126316|\n",
      "+-----------+-----------------+\n",
      "only showing top 20 rows"
     ]
    }
   ],
   "source": []
  },
  {
   "cell_type": "code",
   "execution_count": 25,
   "id": "e0e59dea-0acf-4945-a774-89fa715764da",
   "metadata": {
    "execution": {
     "iopub.execute_input": "2023-12-13T20:07:54.191649Z",
     "iopub.status.busy": "2023-12-13T20:07:54.191239Z",
     "iopub.status.idle": "2023-12-13T20:08:03.516577Z",
     "shell.execute_reply": "2023-12-13T20:08:03.515786Z",
     "shell.execute_reply.started": "2023-12-13T20:07:54.191606Z"
    }
   },
   "outputs": [
    {
     "data": {
      "application/vnd.jupyter.widget-view+json": {
       "model_id": "200be02188554919b812c7b5134f0ef0",
       "version_major": 2,
       "version_minor": 0
      },
      "text/plain": [
       "VBox()"
      ]
     },
     "metadata": {},
     "output_type": "display_data"
    },
    {
     "data": {
      "application/vnd.jupyter.widget-view+json": {
       "model_id": "",
       "version_major": 2,
       "version_minor": 0
      },
      "text/plain": [
       "FloatProgress(value=0.0, bar_style='info', description='Progress:', layout=Layout(height='25px', width='50%'),…"
      ]
     },
     "metadata": {},
     "output_type": "display_data"
    },
    {
     "data": {
      "image/png": "[encoded data removed]",
      "text/plain": [
       "<IPython.core.display.Image object>"
      ]
     },
     "metadata": {},
     "output_type": "display_data"
    }
   ],
   "source": [
    "# Convert the PySpark DataFrame to a Pandas DataFrame\n",
    "genre_avg_rating_pd_df = genre_avg_rating_df.toPandas()\n",
    "\n",
    "plt.figure(figsize=(12, 8))\n",
    "\n",
    "# Sort the DataFrame by 'averageRating'\n",
    "genre_avg_rating_sorted_pd_df = genre_avg_rating_pd_df.sort_values(by=\"averageRating\", ascending=False)\n",
    "\n",
    "movie_plot = plt.barh(genre_avg_rating_sorted_pd_df['genre'], genre_avg_rating_sorted_pd_df['averageRating'], color='darkviolet', height=0.5)\n",
    "\n",
    "plt.xlabel(\"Average Rating\")\n",
    "plt.ylabel(\"Genre\")\n",
    "plt.title(\"Top Genres in the Movie Category\")\n",
    "plt.xlim(5.0, 7.5)\n",
    "plt.gca().invert_yaxis()\n",
    "plt.ylim(len(genre_avg_rating_sorted_pd_df['genre']) - 0.5, -0.5)\n",
    "plt.legend([movie_plot], ['avg_rating'], loc='lower right')\n",
    "%matplot plt"
   ]
  },
  {
   "cell_type": "code",
   "execution_count": 23,
   "id": "4a868d3d",
   "metadata": {
    "execution": {
     "iopub.execute_input": "2023-11-02T20:50:05.527385Z",
     "iopub.status.busy": "2023-11-02T20:50:05.527112Z",
     "iopub.status.idle": "2023-11-02T20:50:14.902014Z",
     "shell.execute_reply": "2023-11-02T20:50:14.875066Z",
     "shell.execute_reply.started": "2023-11-02T20:50:05.527339Z"
    },
    "tags": []
   },
   "outputs": [
    {
     "data": {
      "application/vnd.jupyter.widget-view+json": {
       "model_id": "a3f01c91628249d0a8f7fc8f76d7cda1",
       "version_major": 2,
       "version_minor": 0
      },
      "text/plain": [
       "VBox()"
      ]
     },
     "metadata": {},
     "output_type": "display_data"
    },
    {
     "data": {
      "application/vnd.jupyter.widget-view+json": {
       "model_id": "",
       "version_major": 2,
       "version_minor": 0
      },
      "text/plain": [
       "FloatProgress(value=0.0, bar_style='info', description='Progress:', layout=Layout(height='25px', width='50%'),…"
      ]
     },
     "metadata": {},
     "output_type": "display_data"
    },
    {
     "data": {
      "image/png": "[encoded data removed]",
      "text/plain": [
       "<IPython.core.display.Image object>"
      ]
     },
     "metadata": {},
     "output_type": "display_data"
    }
   ],
   "source": []
  },
  {
   "cell_type": "markdown",
   "id": "3671c612",
   "metadata": {},
   "source": [
    "## PART 3 - Analyzing Job Categories"
   ]
  },
  {
   "cell_type": "markdown",
   "id": "2912a0ba",
   "metadata": {},
   "source": [
    "## Total Unique Job Categories"
   ]
  },
  {
   "cell_type": "markdown",
   "id": "099531c0",
   "metadata": {},
   "source": [
    "**What is the total number of unique job categories?**"
   ]
  },
  {
   "cell_type": "code",
   "execution_count": 26,
   "id": "f9c4473b-f290-43f3-8b78-00de4f8f8653",
   "metadata": {
    "execution": {
     "iopub.execute_input": "2023-12-13T20:08:45.727108Z",
     "iopub.status.busy": "2023-12-13T20:08:45.726789Z",
     "iopub.status.idle": "2023-12-13T20:08:46.489367Z",
     "shell.execute_reply": "2023-12-13T20:08:46.488562Z",
     "shell.execute_reply.started": "2023-12-13T20:08:45.727082Z"
    }
   },
   "outputs": [
    {
     "data": {
      "application/vnd.jupyter.widget-view+json": {
       "model_id": "2abd083a0c724101afd77ff1f8bbbd81",
       "version_major": 2,
       "version_minor": 0
      },
      "text/plain": [
       "VBox()"
      ]
     },
     "metadata": {},
     "output_type": "display_data"
    },
    {
     "data": {
      "application/vnd.jupyter.widget-view+json": {
       "model_id": "",
       "version_major": 2,
       "version_minor": 0
      },
      "text/plain": [
       "FloatProgress(value=0.0, bar_style='info', description='Progress:', layout=Layout(height='25px', width='50%'),…"
      ]
     },
     "metadata": {},
     "output_type": "display_data"
    },
    {
     "name": "stdout",
     "output_type": "stream",
     "text": [
      "+---------+---------------+\n",
      "|   tconst|       category|\n",
      "+---------+---------------+\n",
      "|tt0000001|           self|\n",
      "|tt0000001|       director|\n",
      "|tt0000001|cinematographer|\n",
      "|tt0000002|       director|\n",
      "|tt0000002|       composer|\n",
      "+---------+---------------+\n",
      "only showing top 5 rows"
     ]
    }
   ],
   "source": [
    "titleprincdf.select('tconst', 'category').show(5)"
   ]
  },
  {
   "cell_type": "code",
   "execution_count": 24,
   "id": "bf5ea336",
   "metadata": {
    "execution": {
     "iopub.execute_input": "2023-11-02T20:50:14.903310Z",
     "iopub.status.busy": "2023-11-02T20:50:14.903111Z",
     "iopub.status.idle": "2023-11-02T20:50:15.713590Z",
     "shell.execute_reply": "2023-11-02T20:50:15.712675Z",
     "shell.execute_reply.started": "2023-11-02T20:50:14.903281Z"
    },
    "tags": []
   },
   "outputs": [
    {
     "data": {
      "application/vnd.jupyter.widget-view+json": {
       "model_id": "05baf8271fec4407a717556d5b67da13",
       "version_major": 2,
       "version_minor": 0
      },
      "text/plain": [
       "VBox()"
      ]
     },
     "metadata": {},
     "output_type": "display_data"
    },
    {
     "data": {
      "application/vnd.jupyter.widget-view+json": {
       "model_id": "",
       "version_major": 2,
       "version_minor": 0
      },
      "text/plain": [
       "FloatProgress(value=0.0, bar_style='info', description='Progress:', layout=Layout(height='25px', width='50%'),…"
      ]
     },
     "metadata": {},
     "output_type": "display_data"
    },
    {
     "name": "stdout",
     "output_type": "stream",
     "text": [
      "+---------+---------------+\n",
      "|   tconst|       category|\n",
      "+---------+---------------+\n",
      "|tt0000001|           self|\n",
      "|tt0000001|       director|\n",
      "|tt0000001|cinematographer|\n",
      "|tt0000002|       director|\n",
      "|tt0000002|       composer|\n",
      "+---------+---------------+\n",
      "only showing top 5 rows"
     ]
    }
   ],
   "source": []
  },
  {
   "cell_type": "code",
   "execution_count": 27,
   "id": "25cd0ebd-88ef-4abf-9a86-daff55cc99ae",
   "metadata": {
    "execution": {
     "iopub.execute_input": "2023-12-13T20:09:08.526559Z",
     "iopub.status.busy": "2023-12-13T20:09:08.526142Z",
     "iopub.status.idle": "2023-12-13T20:09:35.913428Z",
     "shell.execute_reply": "2023-12-13T20:09:35.912429Z",
     "shell.execute_reply.started": "2023-12-13T20:09:08.526512Z"
    }
   },
   "outputs": [
    {
     "data": {
      "application/vnd.jupyter.widget-view+json": {
       "model_id": "c4e61b40740f4092b0844eccafff817b",
       "version_major": 2,
       "version_minor": 0
      },
      "text/plain": [
       "VBox()"
      ]
     },
     "metadata": {},
     "output_type": "display_data"
    },
    {
     "data": {
      "application/vnd.jupyter.widget-view+json": {
       "model_id": "",
       "version_major": 2,
       "version_minor": 0
      },
      "text/plain": [
       "FloatProgress(value=0.0, bar_style='info', description='Progress:', layout=Layout(height='25px', width='50%'),…"
      ]
     },
     "metadata": {},
     "output_type": "display_data"
    },
    {
     "name": "stdout",
     "output_type": "stream",
     "text": [
      "Total number of unique job categories: 12"
     ]
    }
   ],
   "source": [
    "unique_cat = titleprincdf.select(\"category\").distinct().count()\n",
    "\n",
    "print(\"Total number of unique job categories:\", unique_cat)"
   ]
  },
  {
   "cell_type": "code",
   "execution_count": 25,
   "id": "44203333",
   "metadata": {
    "execution": {
     "iopub.execute_input": "2023-11-02T20:50:15.717878Z",
     "iopub.status.busy": "2023-11-02T20:50:15.717631Z",
     "iopub.status.idle": "2023-11-02T20:50:41.066415Z",
     "shell.execute_reply": "2023-11-02T20:50:41.065676Z",
     "shell.execute_reply.started": "2023-11-02T20:50:15.717845Z"
    },
    "tags": []
   },
   "outputs": [
    {
     "data": {
      "application/vnd.jupyter.widget-view+json": {
       "model_id": "a3a7914f180440ce93fbb95a9cb1bcd0",
       "version_major": 2,
       "version_minor": 0
      },
      "text/plain": [
       "VBox()"
      ]
     },
     "metadata": {},
     "output_type": "display_data"
    },
    {
     "data": {
      "application/vnd.jupyter.widget-view+json": {
       "model_id": "",
       "version_major": 2,
       "version_minor": 0
      },
      "text/plain": [
       "FloatProgress(value=0.0, bar_style='info', description='Progress:', layout=Layout(height='25px', width='50%'),…"
      ]
     },
     "metadata": {},
     "output_type": "display_data"
    },
    {
     "name": "stdout",
     "output_type": "stream",
     "text": [
      "12"
     ]
    }
   ],
   "source": []
  },
  {
   "cell_type": "markdown",
   "id": "c3b2f7b4",
   "metadata": {},
   "source": [
    "**What are the unique job categories available?**"
   ]
  },
  {
   "cell_type": "code",
   "execution_count": 28,
   "id": "00a107b2-4335-4d5e-8e82-92e7e8b9a043",
   "metadata": {
    "execution": {
     "iopub.execute_input": "2023-12-13T20:09:55.626338Z",
     "iopub.status.busy": "2023-12-13T20:09:55.626001Z",
     "iopub.status.idle": "2023-12-13T20:10:23.037469Z",
     "shell.execute_reply": "2023-12-13T20:10:23.036034Z",
     "shell.execute_reply.started": "2023-12-13T20:09:55.626309Z"
    }
   },
   "outputs": [
    {
     "data": {
      "application/vnd.jupyter.widget-view+json": {
       "model_id": "6cfb789fb953494faf497c985aab4470",
       "version_major": 2,
       "version_minor": 0
      },
      "text/plain": [
       "VBox()"
      ]
     },
     "metadata": {},
     "output_type": "display_data"
    },
    {
     "data": {
      "application/vnd.jupyter.widget-view+json": {
       "model_id": "",
       "version_major": 2,
       "version_minor": 0
      },
      "text/plain": [
       "FloatProgress(value=0.0, bar_style='info', description='Progress:', layout=Layout(height='25px', width='50%'),…"
      ]
     },
     "metadata": {},
     "output_type": "display_data"
    },
    {
     "name": "stdout",
     "output_type": "stream",
     "text": [
      "+-------------------+\n",
      "|category           |\n",
      "+-------------------+\n",
      "|actress            |\n",
      "|producer           |\n",
      "|production_designer|\n",
      "|writer             |\n",
      "|actor              |\n",
      "|cinematographer    |\n",
      "|archive_sound      |\n",
      "|archive_footage    |\n",
      "|self               |\n",
      "|editor             |\n",
      "|composer           |\n",
      "|director           |\n",
      "+-------------------+"
     ]
    }
   ],
   "source": [
    "titleprincdf.select(\"category\").distinct().show(truncate=False)"
   ]
  },
  {
   "cell_type": "code",
   "execution_count": 26,
   "id": "e03438b0",
   "metadata": {
    "execution": {
     "iopub.execute_input": "2023-11-02T20:50:41.067906Z",
     "iopub.status.busy": "2023-11-02T20:50:41.067643Z",
     "iopub.status.idle": "2023-11-02T20:51:06.400132Z",
     "shell.execute_reply": "2023-11-02T20:51:06.399395Z",
     "shell.execute_reply.started": "2023-11-02T20:50:41.067871Z"
    },
    "tags": []
   },
   "outputs": [
    {
     "data": {
      "application/vnd.jupyter.widget-view+json": {
       "model_id": "dffbfe4967f2465bae954f616d7869b2",
       "version_major": 2,
       "version_minor": 0
      },
      "text/plain": [
       "VBox()"
      ]
     },
     "metadata": {},
     "output_type": "display_data"
    },
    {
     "data": {
      "application/vnd.jupyter.widget-view+json": {
       "model_id": "",
       "version_major": 2,
       "version_minor": 0
      },
      "text/plain": [
       "FloatProgress(value=0.0, bar_style='info', description='Progress:', layout=Layout(height='25px', width='50%'),…"
      ]
     },
     "metadata": {},
     "output_type": "display_data"
    },
    {
     "name": "stdout",
     "output_type": "stream",
     "text": [
      "+-------------------+\n",
      "|category           |\n",
      "+-------------------+\n",
      "|actress            |\n",
      "|producer           |\n",
      "|production_designer|\n",
      "|writer             |\n",
      "|actor              |\n",
      "|cinematographer    |\n",
      "|archive_sound      |\n",
      "|archive_footage    |\n",
      "|self               |\n",
      "|editor             |\n",
      "|composer           |\n",
      "|director           |\n",
      "+-------------------+"
     ]
    }
   ],
   "source": []
  },
  {
   "cell_type": "markdown",
   "id": "47312540",
   "metadata": {},
   "source": [
    "## Top Job Categories"
   ]
  },
  {
   "cell_type": "markdown",
   "id": "61df21f0",
   "metadata": {},
   "source": [
    "Now let's find the top job categories in this dataset by rolling up categories."
   ]
  },
  {
   "cell_type": "markdown",
   "id": "2d56869a",
   "metadata": {},
   "source": [
    "### Counts of Titles / Job Category"
   ]
  },
  {
   "cell_type": "markdown",
   "id": "ae87af2f",
   "metadata": {},
   "source": [
    "The expected output should be:\n",
    "\n",
    "| category | count |\n",
    "|-------------|------------|\n",
    "| a     | 15         |\n",
    "| b     | 2          |\n",
    "| c     | 45          |\n",
    "\n",
    "Or something to that effect."
   ]
  },
  {
   "cell_type": "code",
   "execution_count": 29,
   "id": "e8d77470-c399-4879-a51a-13d667b7b648",
   "metadata": {
    "execution": {
     "iopub.execute_input": "2023-12-13T20:11:03.800332Z",
     "iopub.status.busy": "2023-12-13T20:11:03.800017Z",
     "iopub.status.idle": "2023-12-13T20:11:29.161552Z",
     "shell.execute_reply": "2023-12-13T20:11:29.160717Z",
     "shell.execute_reply.started": "2023-12-13T20:11:03.800307Z"
    }
   },
   "outputs": [
    {
     "data": {
      "application/vnd.jupyter.widget-view+json": {
       "model_id": "e7bdad4dcf5342f4910060a0e2e92917",
       "version_major": 2,
       "version_minor": 0
      },
      "text/plain": [
       "VBox()"
      ]
     },
     "metadata": {},
     "output_type": "display_data"
    },
    {
     "data": {
      "application/vnd.jupyter.widget-view+json": {
       "model_id": "",
       "version_major": 2,
       "version_minor": 0
      },
      "text/plain": [
       "FloatProgress(value=0.0, bar_style='info', description='Progress:', layout=Layout(height='25px', width='50%'),…"
      ]
     },
     "metadata": {},
     "output_type": "display_data"
    },
    {
     "name": "stdout",
     "output_type": "stream",
     "text": [
      "+-------------------+-------+\n",
      "|category           |count  |\n",
      "+-------------------+-------+\n",
      "|actress            |6325097|\n",
      "|producer           |2197866|\n",
      "|production_designer|285924 |\n",
      "|writer             |4811596|\n",
      "|actor              |8493701|\n",
      "|cinematographer    |1300404|\n",
      "|archive_sound      |2143   |\n",
      "|archive_footage    |209035 |\n",
      "|self               |6153089|\n",
      "|editor             |1197669|\n",
      "|composer           |1313187|\n",
      "|director           |4179106|\n",
      "+-------------------+-------+"
     ]
    }
   ],
   "source": [
    "category_counts = titleprincdf.groupBy(\"category\").count()\n",
    "category_counts.show(truncate=False)"
   ]
  },
  {
   "cell_type": "code",
   "execution_count": 27,
   "id": "f3d65964",
   "metadata": {
    "execution": {
     "iopub.execute_input": "2023-11-02T20:51:06.401523Z",
     "iopub.status.busy": "2023-11-02T20:51:06.401262Z",
     "iopub.status.idle": "2023-11-02T20:51:31.746235Z",
     "shell.execute_reply": "2023-11-02T20:51:31.745609Z",
     "shell.execute_reply.started": "2023-11-02T20:51:06.401490Z"
    },
    "tags": []
   },
   "outputs": [
    {
     "data": {
      "application/vnd.jupyter.widget-view+json": {
       "model_id": "2cead30a2941416f8438fa595d2ca526",
       "version_major": 2,
       "version_minor": 0
      },
      "text/plain": [
       "VBox()"
      ]
     },
     "metadata": {},
     "output_type": "display_data"
    },
    {
     "data": {
      "application/vnd.jupyter.widget-view+json": {
       "model_id": "",
       "version_major": 2,
       "version_minor": 0
      },
      "text/plain": [
       "FloatProgress(value=0.0, bar_style='info', description='Progress:', layout=Layout(height='25px', width='50%'),…"
      ]
     },
     "metadata": {},
     "output_type": "display_data"
    },
    {
     "name": "stdout",
     "output_type": "stream",
     "text": [
      "+-------------------+-------+\n",
      "|category           |count  |\n",
      "+-------------------+-------+\n",
      "|actress            |6325097|\n",
      "|producer           |2197866|\n",
      "|production_designer|285924 |\n",
      "|writer             |4811596|\n",
      "|actor              |8493701|\n",
      "|cinematographer    |1300404|\n",
      "|archive_sound      |2143   |\n",
      "|archive_footage    |209035 |\n",
      "|self               |6153089|\n",
      "|editor             |1197669|\n",
      "|composer           |1313187|\n",
      "|director           |4179106|\n",
      "+-------------------+-------+"
     ]
    }
   ],
   "source": []
  },
  {
   "cell_type": "markdown",
   "id": "f8671889",
   "metadata": {},
   "source": [
    "### Bar Chart of Top Job Categories\n",
    "\n",
    "With this data available, let us now build a barchart of the top 5 categories. \n",
    "\n",
    "**HINT**: don't forget about the matplotlib magic!\n",
    "\n",
    "```\n",
    "%matplot plt\n",
    "```"
   ]
  },
  {
   "cell_type": "code",
   "execution_count": 30,
   "id": "b9ea7f0c-eaf2-4fb1-9f86-c9d639e0f594",
   "metadata": {
    "execution": {
     "iopub.execute_input": "2023-12-13T20:11:48.824430Z",
     "iopub.status.busy": "2023-12-13T20:11:48.824116Z",
     "iopub.status.idle": "2023-12-13T20:12:14.165045Z",
     "shell.execute_reply": "2023-12-13T20:12:14.164276Z",
     "shell.execute_reply.started": "2023-12-13T20:11:48.824404Z"
    }
   },
   "outputs": [
    {
     "data": {
      "application/vnd.jupyter.widget-view+json": {
       "model_id": "9801e6a5f56c467fa951affec1337075",
       "version_major": 2,
       "version_minor": 0
      },
      "text/plain": [
       "VBox()"
      ]
     },
     "metadata": {},
     "output_type": "display_data"
    },
    {
     "data": {
      "application/vnd.jupyter.widget-view+json": {
       "model_id": "",
       "version_major": 2,
       "version_minor": 0
      },
      "text/plain": [
       "FloatProgress(value=0.0, bar_style='info', description='Progress:', layout=Layout(height='25px', width='50%'),…"
      ]
     },
     "metadata": {},
     "output_type": "display_data"
    },
    {
     "name": "stdout",
     "output_type": "stream",
     "text": [
      "+-------------------+-------+\n",
      "|category           |count  |\n",
      "+-------------------+-------+\n",
      "|actor              |8493701|\n",
      "|actress            |6325097|\n",
      "|self               |6153089|\n",
      "|writer             |4811596|\n",
      "|director           |4179106|\n",
      "|producer           |2197866|\n",
      "|composer           |1313187|\n",
      "|cinematographer    |1300404|\n",
      "|editor             |1197669|\n",
      "|production_designer|285924 |\n",
      "|archive_footage    |209035 |\n",
      "|archive_sound      |2143   |\n",
      "+-------------------+-------+"
     ]
    }
   ],
   "source": [
    "category_counts.orderBy(col(\"count\").desc()).show(truncate=False)"
   ]
  },
  {
   "cell_type": "code",
   "execution_count": 28,
   "id": "3c73edf1",
   "metadata": {
    "execution": {
     "iopub.execute_input": "2023-11-02T20:51:31.747342Z",
     "iopub.status.busy": "2023-11-02T20:51:31.747173Z",
     "iopub.status.idle": "2023-11-02T20:51:57.081634Z",
     "shell.execute_reply": "2023-11-02T20:51:57.081001Z",
     "shell.execute_reply.started": "2023-11-02T20:51:31.747321Z"
    },
    "tags": []
   },
   "outputs": [
    {
     "data": {
      "application/vnd.jupyter.widget-view+json": {
       "model_id": "b00fb69dee37479dba6a43936db83fd5",
       "version_major": 2,
       "version_minor": 0
      },
      "text/plain": [
       "VBox()"
      ]
     },
     "metadata": {},
     "output_type": "display_data"
    },
    {
     "data": {
      "application/vnd.jupyter.widget-view+json": {
       "model_id": "",
       "version_major": 2,
       "version_minor": 0
      },
      "text/plain": [
       "FloatProgress(value=0.0, bar_style='info', description='Progress:', layout=Layout(height='25px', width='50%'),…"
      ]
     },
     "metadata": {},
     "output_type": "display_data"
    },
    {
     "name": "stdout",
     "output_type": "stream",
     "text": [
      "+-------------------+-------+\n",
      "|category           |count  |\n",
      "+-------------------+-------+\n",
      "|actor              |8493701|\n",
      "|actress            |6325097|\n",
      "|self               |6153089|\n",
      "|writer             |4811596|\n",
      "|director           |4179106|\n",
      "|producer           |2197866|\n",
      "|composer           |1313187|\n",
      "|cinematographer    |1300404|\n",
      "|editor             |1197669|\n",
      "|production_designer|285924 |\n",
      "|archive_footage    |209035 |\n",
      "|archive_sound      |2143   |\n",
      "+-------------------+-------+"
     ]
    }
   ],
   "source": []
  },
  {
   "cell_type": "code",
   "execution_count": 31,
   "id": "21b8c570-eec5-48c9-be04-a067bb2f866c",
   "metadata": {
    "execution": {
     "iopub.execute_input": "2023-12-13T20:18:28.193445Z",
     "iopub.status.busy": "2023-12-13T20:18:28.193083Z",
     "iopub.status.idle": "2023-12-13T20:19:03.576636Z",
     "shell.execute_reply": "2023-12-13T20:19:03.575893Z",
     "shell.execute_reply.started": "2023-12-13T20:18:28.193417Z"
    }
   },
   "outputs": [
    {
     "data": {
      "application/vnd.jupyter.widget-view+json": {
       "model_id": "bb4e16d5ae1a41aa8d7ae1b5fc66760f",
       "version_major": 2,
       "version_minor": 0
      },
      "text/plain": [
       "VBox()"
      ]
     },
     "metadata": {},
     "output_type": "display_data"
    },
    {
     "data": {
      "application/vnd.jupyter.widget-view+json": {
       "model_id": "",
       "version_major": 2,
       "version_minor": 0
      },
      "text/plain": [
       "FloatProgress(value=0.0, bar_style='info', description='Progress:', layout=Layout(height='25px', width='50%'),…"
      ]
     },
     "metadata": {},
     "output_type": "display_data"
    },
    {
     "data": {
      "image/png": "[encoded data removed]",
      "text/plain": [
       "<IPython.core.display.Image object>"
      ]
     },
     "metadata": {},
     "output_type": "display_data"
    }
   ],
   "source": [
    "# Convert the PySpark DataFrame to a Pandas DataFrame\n",
    "category_counts_pd = category_counts.toPandas()\n",
    "\n",
    "plt.figure(figsize=(12, 8))\n",
    "\n",
    "# Sort the DataFrame by 'averageRating'\n",
    "category_counts_pd = category_counts_pd.sort_values(by=\"count\", ascending=False).head(5)\n",
    "\n",
    "job_plot = plt.bar(category_counts_pd['category'], category_counts_pd['count'], color='orange', width=0.4)\n",
    "\n",
    "plt.xlabel(\"Job Categories\")\n",
    "plt.ylabel(\"Count\")\n",
    "plt.title(\"Top Job Categories\")\n",
    "plt.ylim(3e6, 9e6)\n",
    "plt.legend([job_plot], ['count'], loc='upper right')\n",
    "%matplot plt"
   ]
  },
  {
   "cell_type": "code",
   "execution_count": 29,
   "id": "eb4608e8-96d1-45d2-9d30-f53b5cd12688",
   "metadata": {
    "execution": {
     "iopub.execute_input": "2023-11-02T20:51:57.082950Z",
     "iopub.status.busy": "2023-11-02T20:51:57.082548Z",
     "iopub.status.idle": "2023-11-02T20:52:22.413357Z",
     "shell.execute_reply": "2023-11-02T20:52:22.412667Z",
     "shell.execute_reply.started": "2023-11-02T20:51:57.082925Z"
    },
    "tags": []
   },
   "outputs": [
    {
     "data": {
      "application/vnd.jupyter.widget-view+json": {
       "model_id": "e881cb7f675d4201a0ec4fc22b9e9971",
       "version_major": 2,
       "version_minor": 0
      },
      "text/plain": [
       "VBox()"
      ]
     },
     "metadata": {},
     "output_type": "display_data"
    },
    {
     "data": {
      "application/vnd.jupyter.widget-view+json": {
       "model_id": "",
       "version_major": 2,
       "version_minor": 0
      },
      "text/plain": [
       "FloatProgress(value=0.0, bar_style='info', description='Progress:', layout=Layout(height='25px', width='50%'),…"
      ]
     },
     "metadata": {},
     "output_type": "display_data"
    },
    {
     "data": {
      "image/png": "[encoded data removed]",
      "text/plain": [
       "<IPython.core.display.Image object>"
      ]
     },
     "metadata": {},
     "output_type": "display_data"
    }
   ],
   "source": []
  },
  {
   "cell_type": "markdown",
   "id": "a4436c54",
   "metadata": {},
   "source": [
    "# PART 4 - Answer to the following questions:"
   ]
  },
  {
   "cell_type": "markdown",
   "id": "4c531a7b-8289-4784-825b-fabad415090b",
   "metadata": {},
   "source": [
    "You will need to join tables to answer the following questions.\n",
    "Your code should meet all the requirements given in the question."
   ]
  },
  {
   "cell_type": "markdown",
   "id": "17273925",
   "metadata": {},
   "source": [
    "## 1) What are the movies in which both Johnny Depp and Helena Bonham Carter have acted together?"
   ]
  },
  {
   "cell_type": "code",
   "execution_count": 32,
   "id": "91fb0e07-fc8f-47a9-a7ee-a8fbf513d499",
   "metadata": {
    "execution": {
     "iopub.execute_input": "2023-12-13T20:21:01.481176Z",
     "iopub.status.busy": "2023-12-13T20:21:01.480642Z",
     "iopub.status.idle": "2023-12-13T20:22:41.089136Z",
     "shell.execute_reply": "2023-12-13T20:22:41.088342Z",
     "shell.execute_reply.started": "2023-12-13T20:21:01.481132Z"
    }
   },
   "outputs": [
    {
     "data": {
      "application/vnd.jupyter.widget-view+json": {
       "model_id": "13cf49bf8a3e4695aa29017cfe91d2a0",
       "version_major": 2,
       "version_minor": 0
      },
      "text/plain": [
       "VBox()"
      ]
     },
     "metadata": {},
     "output_type": "display_data"
    },
    {
     "data": {
      "application/vnd.jupyter.widget-view+json": {
       "model_id": "",
       "version_major": 2,
       "version_minor": 0
      },
      "text/plain": [
       "FloatProgress(value=0.0, bar_style='info', description='Progress:', layout=Layout(height='25px', width='50%'),…"
      ]
     },
     "metadata": {},
     "output_type": "display_data"
    },
    {
     "name": "stdout",
     "output_type": "stream",
     "text": [
      "+----------------------------------------------+\n",
      "|primaryTitle                                  |\n",
      "+----------------------------------------------+\n",
      "|Dark Shadows                                  |\n",
      "|Sweeney Todd: The Demon Barber of Fleet Street|\n",
      "|Alice in Wonderland                           |\n",
      "|Charlie and the Chocolate Factory             |\n",
      "|Corpse Bride                                  |\n",
      "|Alice Through the Looking Glass               |\n",
      "+----------------------------------------------+"
     ]
    }
   ],
   "source": [
    "# Filter namedf for Johnny Depp and Helena Bonham Carter\n",
    "johnny_depp_id = namedf.filter(namedf.primaryName == \"Johnny Depp\").select(\"nconst\").distinct()\n",
    "helena_bonham_carter_id = namedf.filter(namedf.primaryName == \"Helena Bonham Carter\").select(\"nconst\").distinct()\n",
    "\n",
    "# Get the movie titles (tconst) where Johnny Depp acted\n",
    "johnny_depp_titles = titleprincdf.join(johnny_depp_id, \"nconst\").select(\"tconst\").distinct()\n",
    "\n",
    "# Get the movie titles (tconst) where Helena Bonham Carter acted\n",
    "helena_bonham_carter_titles = titleprincdf.join(helena_bonham_carter_id, \"nconst\").select(\"tconst\").distinct()\n",
    "\n",
    "# Find common titles in which both acted\n",
    "common_titles = johnny_depp_titles.intersect(helena_bonham_carter_titles)\n",
    "\n",
    "# Join with titledf to get movie names\n",
    "movies_both_acted = common_titles.join(titledf, \"tconst\").filter(col(\"titleType\")==\"movie\").select(\"primaryTitle\")\n",
    "\n",
    "movies_both_acted.show(truncate=False)"
   ]
  },
  {
   "cell_type": "code",
   "execution_count": 30,
   "id": "dfced2cd",
   "metadata": {
    "execution": {
     "iopub.execute_input": "2023-11-02T20:52:22.414791Z",
     "iopub.status.busy": "2023-11-02T20:52:22.414518Z",
     "iopub.status.idle": "2023-11-02T20:53:07.795329Z",
     "shell.execute_reply": "2023-11-02T20:53:07.794537Z",
     "shell.execute_reply.started": "2023-11-02T20:52:22.414757Z"
    }
   },
   "outputs": [
    {
     "data": {
      "application/vnd.jupyter.widget-view+json": {
       "model_id": "66f3b7367b07418580acdaad9dfd79d4",
       "version_major": 2,
       "version_minor": 0
      },
      "text/plain": [
       "VBox()"
      ]
     },
     "metadata": {},
     "output_type": "display_data"
    },
    {
     "data": {
      "application/vnd.jupyter.widget-view+json": {
       "model_id": "",
       "version_major": 2,
       "version_minor": 0
      },
      "text/plain": [
       "FloatProgress(value=0.0, bar_style='info', description='Progress:', layout=Layout(height='25px', width='50%'),…"
      ]
     },
     "metadata": {},
     "output_type": "display_data"
    },
    {
     "name": "stdout",
     "output_type": "stream",
     "text": [
      "+----------------------------------------------+\n",
      "|primaryTitle                                  |\n",
      "+----------------------------------------------+\n",
      "|Dark Shadows                                  |\n",
      "|Sweeney Todd: The Demon Barber of Fleet Street|\n",
      "|Corpse Bride                                  |\n",
      "|Charlie and the Chocolate Factory             |\n",
      "|Alice in Wonderland                           |\n",
      "|Alice Through the Looking Glass               |\n",
      "+----------------------------------------------+"
     ]
    }
   ],
   "source": []
  },
  {
   "cell_type": "markdown",
   "id": "a43ca52f",
   "metadata": {},
   "source": [
    "## 2) What are the movies in which Brad Pitt has acted since 2010?"
   ]
  },
  {
   "cell_type": "code",
   "execution_count": 34,
   "id": "5ea3180e-ccf6-4a76-8d53-00d8b6da31e4",
   "metadata": {
    "execution": {
     "iopub.execute_input": "2023-12-13T20:39:20.525117Z",
     "iopub.status.busy": "2023-12-13T20:39:20.524820Z",
     "iopub.status.idle": "2023-12-13T20:40:13.969452Z",
     "shell.execute_reply": "2023-12-13T20:40:13.968621Z",
     "shell.execute_reply.started": "2023-12-13T20:39:20.525092Z"
    },
    "tags": []
   },
   "outputs": [
    {
     "data": {
      "application/vnd.jupyter.widget-view+json": {
       "model_id": "7c04356fab3c4e3688aaab93c702a6d4",
       "version_major": 2,
       "version_minor": 0
      },
      "text/plain": [
       "VBox()"
      ]
     },
     "metadata": {},
     "output_type": "display_data"
    },
    {
     "data": {
      "application/vnd.jupyter.widget-view+json": {
       "model_id": "",
       "version_major": 2,
       "version_minor": 0
      },
      "text/plain": [
       "FloatProgress(value=0.0, bar_style='info', description='Progress:', layout=Layout(height='25px', width='50%'),…"
      ]
     },
     "metadata": {},
     "output_type": "display_data"
    },
    {
     "name": "stdout",
     "output_type": "stream",
     "text": [
      "+---------------------------------+---------+\n",
      "|primaryTitle                     |startYear|\n",
      "+---------------------------------+---------+\n",
      "|Babylon                          |2021     |\n",
      "|Once Upon a Time ... in Hollywood|2019     |\n",
      "|Ad Astra                         |2019     |\n",
      "|War Machine                      |2017     |\n",
      "|Allied                           |2016     |\n",
      "|The Big Short                    |2015     |\n",
      "|By the Sea                       |2015     |\n",
      "|Fury                             |2014     |\n",
      "|World War Z                      |2013     |\n",
      "|12 Years a Slave                 |2013     |\n",
      "|Killing Them Softly              |2012     |\n",
      "|The Tree of Life                 |2011     |\n",
      "|Moneyball                        |2011     |\n",
      "+---------------------------------+---------+"
     ]
    }
   ],
   "source": [
    "# Filter for Brad Pitt's ID\n",
    "brad_pitt_id = namedf.filter(namedf.primaryName == \"Brad Pitt\").select(\"nconst\").distinct()\n",
    "\n",
    "# Get movie titles where Brad Pitt acted\n",
    "brad_pitt_titles = titleprincdf.join(brad_pitt_id, \"nconst\").filter(col(\"category\") == \"actor\").select(\"tconst\")\n",
    "\n",
    "# Filter titledf for movies since 2010 and where startYear is not '\\N'\n",
    "movies_since_2010 = titledf.filter((col(\"titleType\") == \"movie\") & (col(\"startYear\") > \"2010\") & (col(\"startYear\") != r\"\\N\"))\n",
    "\n",
    "# Join to get Brad Pitt's movies since 2010\n",
    "brad_pitt_movies_since_2010 = brad_pitt_titles.join(movies_since_2010, \"tconst\").select(\"primaryTitle\", \"startYear\")\n",
    "\n",
    "brad_pitt_movies_since_2010.orderBy(col(\"startYear\").desc()).show(truncate=False)"
   ]
  },
  {
   "cell_type": "code",
   "execution_count": 31,
   "id": "380d9cbf",
   "metadata": {
    "execution": {
     "iopub.execute_input": "2023-11-02T20:53:07.796413Z",
     "iopub.status.busy": "2023-11-02T20:53:07.796247Z",
     "iopub.status.idle": "2023-11-02T20:53:49.188714Z",
     "shell.execute_reply": "2023-11-02T20:53:49.187943Z",
     "shell.execute_reply.started": "2023-11-02T20:53:07.796393Z"
    }
   },
   "outputs": [
    {
     "data": {
      "application/vnd.jupyter.widget-view+json": {
       "model_id": "7968995fea164e2b8c75e9383e9e1f11",
       "version_major": 2,
       "version_minor": 0
      },
      "text/plain": [
       "VBox()"
      ]
     },
     "metadata": {},
     "output_type": "display_data"
    },
    {
     "data": {
      "application/vnd.jupyter.widget-view+json": {
       "model_id": "",
       "version_major": 2,
       "version_minor": 0
      },
      "text/plain": [
       "FloatProgress(value=0.0, bar_style='info', description='Progress:', layout=Layout(height='25px', width='50%'),…"
      ]
     },
     "metadata": {},
     "output_type": "display_data"
    },
    {
     "name": "stdout",
     "output_type": "stream",
     "text": [
      "+---------------------------------+---------+\n",
      "|primaryTitle                     |startYear|\n",
      "+---------------------------------+---------+\n",
      "|Babylon                          |2021     |\n",
      "|Once Upon a Time ... in Hollywood|2019     |\n",
      "|Ad Astra                         |2019     |\n",
      "|War Machine                      |2017     |\n",
      "|Allied                           |2016     |\n",
      "|The Big Short                    |2015     |\n",
      "|By the Sea                       |2015     |\n",
      "|Fury                             |2014     |\n",
      "|World War Z                      |2013     |\n",
      "|12 Years a Slave                 |2013     |\n",
      "|Killing Them Softly              |2012     |\n",
      "|The Tree of Life                 |2011     |\n",
      "|Moneyball                        |2011     |\n",
      "+---------------------------------+---------+"
     ]
    }
   ],
   "source": []
  },
  {
   "cell_type": "markdown",
   "id": "084db6f3",
   "metadata": {},
   "source": [
    "## 3) How many movies has Zendaya acted in each year?"
   ]
  },
  {
   "cell_type": "code",
   "execution_count": 36,
   "id": "e73936ab-bc2c-491e-a8ee-aacdb57abc5f",
   "metadata": {
    "execution": {
     "iopub.execute_input": "2023-12-13T20:44:12.847394Z",
     "iopub.status.busy": "2023-12-13T20:44:12.847088Z",
     "iopub.status.idle": "2023-12-13T20:45:12.286914Z",
     "shell.execute_reply": "2023-12-13T20:45:12.286032Z",
     "shell.execute_reply.started": "2023-12-13T20:44:12.847368Z"
    },
    "tags": []
   },
   "outputs": [
    {
     "data": {
      "application/vnd.jupyter.widget-view+json": {
       "model_id": "c609592108a34122aacd416b7cf03dce",
       "version_major": 2,
       "version_minor": 0
      },
      "text/plain": [
       "VBox()"
      ]
     },
     "metadata": {},
     "output_type": "display_data"
    },
    {
     "data": {
      "application/vnd.jupyter.widget-view+json": {
       "model_id": "",
       "version_major": 2,
       "version_minor": 0
      },
      "text/plain": [
       "FloatProgress(value=0.0, bar_style='info', description='Progress:', layout=Layout(height='25px', width='50%'),…"
      ]
     },
     "metadata": {},
     "output_type": "display_data"
    },
    {
     "name": "stdout",
     "output_type": "stream",
     "text": [
      "+---------+-----+\n",
      "|startYear|count|\n",
      "+---------+-----+\n",
      "|2020     |1    |\n",
      "|2018     |2    |\n",
      "|2017     |1    |\n",
      "+---------+-----+"
     ]
    }
   ],
   "source": [
    "# Filter for Zendaya's ID\n",
    "zendaya_id = namedf.filter(namedf.primaryName == \"Zendaya\").select(\"nconst\").distinct()\n",
    "\n",
    "# Get movie titles where Zendaya acted\n",
    "zendaya_titles = titleprincdf.join(zendaya_id, \"nconst\").select(\"tconst\")\n",
    "\n",
    "# Filter titledf for movies and join with Zendaya's movie titles\n",
    "zendaya_movies = titledf.filter((col(\"titleType\") == \"movie\") &  (col(\"startYear\") != r\"\\N\")).join(zendaya_titles, \"tconst\").select(\"tconst\", \"startYear\")\n",
    "\n",
    "# Group by year and count the number of movies\n",
    "movies_per_year = zendaya_movies.groupBy(\"startYear\").count().orderBy(\"startYear\")\n",
    "\n",
    "movies_per_year.orderBy(col(\"startYear\").desc()).show(truncate=False)"
   ]
  },
  {
   "cell_type": "code",
   "execution_count": 32,
   "id": "0f7d1874",
   "metadata": {
    "execution": {
     "iopub.execute_input": "2023-11-02T20:53:49.190051Z",
     "iopub.status.busy": "2023-11-02T20:53:49.189805Z",
     "iopub.status.idle": "2023-11-02T20:54:30.580874Z",
     "shell.execute_reply": "2023-11-02T20:54:30.580073Z",
     "shell.execute_reply.started": "2023-11-02T20:53:49.190018Z"
    }
   },
   "outputs": [
    {
     "data": {
      "application/vnd.jupyter.widget-view+json": {
       "model_id": "aace5cf80da14572bd34957cbd67935b",
       "version_major": 2,
       "version_minor": 0
      },
      "text/plain": [
       "VBox()"
      ]
     },
     "metadata": {},
     "output_type": "display_data"
    },
    {
     "data": {
      "application/vnd.jupyter.widget-view+json": {
       "model_id": "",
       "version_major": 2,
       "version_minor": 0
      },
      "text/plain": [
       "FloatProgress(value=0.0, bar_style='info', description='Progress:', layout=Layout(height='25px', width='50%'),…"
      ]
     },
     "metadata": {},
     "output_type": "display_data"
    },
    {
     "name": "stdout",
     "output_type": "stream",
     "text": [
      "+---------+-----+\n",
      "|startYear|count|\n",
      "+---------+-----+\n",
      "|2020     |1    |\n",
      "|2018     |2    |\n",
      "|2017     |1    |\n",
      "+---------+-----+"
     ]
    }
   ],
   "source": []
  },
  {
   "cell_type": "markdown",
   "id": "c7ba3bde",
   "metadata": {},
   "source": [
    "## 4) Which movies, released in 2019, have an average rating exceeding 9.7?"
   ]
  },
  {
   "cell_type": "code",
   "execution_count": 40,
   "id": "c689e607-f4fc-4d70-9997-9b42426da753",
   "metadata": {
    "execution": {
     "iopub.execute_input": "2023-12-13T20:58:19.537841Z",
     "iopub.status.busy": "2023-12-13T20:58:19.537401Z",
     "iopub.status.idle": "2023-12-13T20:58:38.860278Z",
     "shell.execute_reply": "2023-12-13T20:58:38.859471Z",
     "shell.execute_reply.started": "2023-12-13T20:58:19.537802Z"
    },
    "tags": []
   },
   "outputs": [
    {
     "data": {
      "application/vnd.jupyter.widget-view+json": {
       "model_id": "a2d5380935fa4a03b27ddd315031928c",
       "version_major": 2,
       "version_minor": 0
      },
      "text/plain": [
       "VBox()"
      ]
     },
     "metadata": {},
     "output_type": "display_data"
    },
    {
     "data": {
      "application/vnd.jupyter.widget-view+json": {
       "model_id": "",
       "version_major": 2,
       "version_minor": 0
      },
      "text/plain": [
       "FloatProgress(value=0.0, bar_style='info', description='Progress:', layout=Layout(height='25px', width='50%'),…"
      ]
     },
     "metadata": {},
     "output_type": "display_data"
    },
    {
     "name": "stdout",
     "output_type": "stream",
     "text": [
      "+-------------------------------------------------+-------------+\n",
      "|primaryTitle                                     |averageRating|\n",
      "+-------------------------------------------------+-------------+\n",
      "|Bu Can Var Oldugu Sürece                         |10.0         |\n",
      "|L'Enfant Terrible                                |10.0         |\n",
      "|A Grunt's Life                                   |10.0         |\n",
      "|Kirket                                           |10.0         |\n",
      "|Our Scripted Life                                |10.0         |\n",
      "|The Twilight Zone: A 60th Anniversary Celebration|10.0         |\n",
      "|The Butcher Baronet                              |10.0         |\n",
      "|A Medicine for the Mind                          |10.0         |\n",
      "|Love in Kilnerry                                 |10.0         |\n",
      "|Superhombre                                      |9.9          |\n",
      "|Puritan: All of Life to The Glory of God         |9.9          |\n",
      "|The Cardinal                                     |9.9          |\n",
      "|Square One                                       |9.8          |\n",
      "|Kamen Rider Zi-O: Over Quartzer                  |9.8          |\n",
      "|Time and motion                                  |9.8          |\n",
      "|We Shall Not Die Now                             |9.8          |\n",
      "|From Shock to Awe                                |9.8          |\n",
      "|Randhawa                                         |9.8          |\n",
      "|Gini Helida Kathe                                |9.8          |\n",
      "+-------------------------------------------------+-------------+"
     ]
    }
   ],
   "source": [
    "# Filter titledf for movies released in 2019 and where startYear is not '\\N'\n",
    "movies_2019 = titledf.filter((col(\"titleType\") == \"movie\") & (col(\"startYear\") == \"2019\") & (col(\"startYear\") != r\"\\N\"))\n",
    "\n",
    "# Join with titleratdf to get the ratings\n",
    "movies_2019_with_ratings = movies_2019.join(titleratdf, \"tconst\")\n",
    "\n",
    "# Changing average rating to float\n",
    "movies_2019_with_ratings = movies_2019_with_ratings.withColumn(\"averageRating\", col(\"averageRating\").cast(\"float\")).select(\"primaryTitle\", \"averageRating\")\n",
    "\n",
    "# Filter for movies with an average rating greater than 9.7\n",
    "highly_rated_movies_2019 = movies_2019_with_ratings.filter(col(\"averageRating\") > 9.7)\n",
    "\n",
    "# Sort by averageRating\n",
    "highly_rated_movies_2019_sorted = highly_rated_movies_2019.orderBy(col(\"averageRating\").desc())\n",
    "\n",
    "highly_rated_movies_2019_sorted.show(truncate=False)"
   ]
  },
  {
   "cell_type": "code",
   "execution_count": 33,
   "id": "294883c2",
   "metadata": {
    "execution": {
     "iopub.execute_input": "2023-11-02T20:54:30.582335Z",
     "iopub.status.busy": "2023-11-02T20:54:30.582077Z",
     "iopub.status.idle": "2023-11-02T20:54:37.878869Z",
     "shell.execute_reply": "2023-11-02T20:54:37.878131Z",
     "shell.execute_reply.started": "2023-11-02T20:54:30.582300Z"
    }
   },
   "outputs": [
    {
     "data": {
      "application/vnd.jupyter.widget-view+json": {
       "model_id": "891856c0642441dd8ffff84997715f20",
       "version_major": 2,
       "version_minor": 0
      },
      "text/plain": [
       "VBox()"
      ]
     },
     "metadata": {},
     "output_type": "display_data"
    },
    {
     "data": {
      "application/vnd.jupyter.widget-view+json": {
       "model_id": "",
       "version_major": 2,
       "version_minor": 0
      },
      "text/plain": [
       "FloatProgress(value=0.0, bar_style='info', description='Progress:', layout=Layout(height='25px', width='50%'),…"
      ]
     },
     "metadata": {},
     "output_type": "display_data"
    },
    {
     "name": "stdout",
     "output_type": "stream",
     "text": [
      "+-------------------------------------------------+-------------+\n",
      "|PrimaryTitle                                     |averageRating|\n",
      "+-------------------------------------------------+-------------+\n",
      "|Bu Can Var Oldugu Sürece                         |10.0         |\n",
      "|L'Enfant Terrible                                |10.0         |\n",
      "|A Grunt's Life                                   |10.0         |\n",
      "|Kirket                                           |10.0         |\n",
      "|Our Scripted Life                                |10.0         |\n",
      "|The Twilight Zone: A 60th Anniversary Celebration|10.0         |\n",
      "|The Butcher Baronet                              |10.0         |\n",
      "|A Medicine for the Mind                          |10.0         |\n",
      "|Love in Kilnerry                                 |10.0         |\n",
      "|Superhombre                                      |9.9          |\n",
      "|Puritan: All of Life to The Glory of God         |9.9          |\n",
      "|The Cardinal                                     |9.9          |\n",
      "|Square One                                       |9.8          |\n",
      "|Kamen Rider Zi-O: Over Quartzer                  |9.8          |\n",
      "|Time and motion                                  |9.8          |\n",
      "|We Shall Not Die Now                             |9.8          |\n",
      "|From Shock to Awe                                |9.8          |\n",
      "|Randhawa                                         |9.8          |\n",
      "|Gini Helida Kathe                                |9.8          |\n",
      "+-------------------------------------------------+-------------+"
     ]
    }
   ],
   "source": []
  },
  {
   "cell_type": "markdown",
   "id": "a884583a-e943-48c3-afdc-54ff6f51ff97",
   "metadata": {},
   "source": [
    "## 5) Among the titles in which Clint Eastwood and Harrison Ford have acted, who has the higher average rating?\n",
    "\n",
    "First, calculate the average rating of each actor and then show the actor with higher average rating."
   ]
  },
  {
   "cell_type": "code",
   "execution_count": 45,
   "id": "792f1c43-a8a0-4cb9-b37e-027a132c9f5b",
   "metadata": {
    "execution": {
     "iopub.execute_input": "2023-12-13T21:26:58.954837Z",
     "iopub.status.busy": "2023-12-13T21:26:58.954529Z",
     "iopub.status.idle": "2023-12-13T21:27:56.387116Z",
     "shell.execute_reply": "2023-12-13T21:27:56.386276Z",
     "shell.execute_reply.started": "2023-12-13T21:26:58.954812Z"
    }
   },
   "outputs": [
    {
     "data": {
      "application/vnd.jupyter.widget-view+json": {
       "model_id": "6f73ff18b1a14c328cb8e2858afb149a",
       "version_major": 2,
       "version_minor": 0
      },
      "text/plain": [
       "VBox()"
      ]
     },
     "metadata": {},
     "output_type": "display_data"
    },
    {
     "data": {
      "application/vnd.jupyter.widget-view+json": {
       "model_id": "",
       "version_major": 2,
       "version_minor": 0
      },
      "text/plain": [
       "FloatProgress(value=0.0, bar_style='info', description='Progress:', layout=Layout(height='25px', width='50%'),…"
      ]
     },
     "metadata": {},
     "output_type": "display_data"
    },
    {
     "name": "stdout",
     "output_type": "stream",
     "text": [
      "The average rating of Clint Eastwood is 7.32\n",
      "The average rating of Harrison Ford is 6.76\n",
      "Clint Eastwood has a higher average rating"
     ]
    }
   ],
   "source": [
    "# Filter for Clint Eastwood and Harrison Ford's IDs\n",
    "actors_ids = namedf.filter(namedf.primaryName.isin(\"Clint Eastwood\", \"Harrison Ford\")).select(\"nconst\", \"primaryName\")\n",
    "\n",
    "# Get titles for each actor\n",
    "actor_titles = titleprincdf.join(actors_ids, \"nconst\").select(\"tconst\", \"primaryName\")\n",
    "\n",
    "# Join with titleratdf to get ratings\n",
    "actor_titles_with_ratings = actor_titles.join(titleratdf, \"tconst\")\n",
    "\n",
    "# Group by actor and calculate average rating\n",
    "average_ratings_per_actor = actor_titles_with_ratings.groupBy(\"primaryName\").agg(round(avg(\"averageRating\"),2).alias(\"averageRating\"))\n",
    "\n",
    "average_ratings = average_ratings_per_actor.collect()\n",
    "\n",
    "for actor in average_ratings:\n",
    "    print(f\"The average rating of {actor['primaryName']} is {actor['averageRating']}\")\n",
    "\n",
    "if average_ratings[0]['averageRating'] > average_ratings[1]['averageRating']:\n",
    "    higher_rated_actor = average_ratings[0]['primaryName']\n",
    "else:\n",
    "    higher_rated_actor = average_ratings[1]['primaryName']\n",
    "\n",
    "print(f\"{higher_rated_actor} has a higher average rating\")"
   ]
  },
  {
   "cell_type": "code",
   "execution_count": 34,
   "id": "df2500aa-0304-4170-9ae2-c15d28473c1b",
   "metadata": {
    "execution": {
     "iopub.execute_input": "2023-11-02T20:54:37.879991Z",
     "iopub.status.busy": "2023-11-02T20:54:37.879817Z",
     "iopub.status.idle": "2023-11-02T20:55:51.391296Z",
     "shell.execute_reply": "2023-11-02T20:55:51.390640Z",
     "shell.execute_reply.started": "2023-11-02T20:54:37.879970Z"
    },
    "tags": []
   },
   "outputs": [
    {
     "data": {
      "application/vnd.jupyter.widget-view+json": {
       "model_id": "5711b69b95e547b98968947fff225280",
       "version_major": 2,
       "version_minor": 0
      },
      "text/plain": [
       "VBox()"
      ]
     },
     "metadata": {},
     "output_type": "display_data"
    },
    {
     "data": {
      "application/vnd.jupyter.widget-view+json": {
       "model_id": "",
       "version_major": 2,
       "version_minor": 0
      },
      "text/plain": [
       "FloatProgress(value=0.0, bar_style='info', description='Progress:', layout=Layout(height='25px', width='50%'),…"
      ]
     },
     "metadata": {},
     "output_type": "display_data"
    },
    {
     "name": "stdout",
     "output_type": "stream",
     "text": [
      "The average rating of Harrison Ford is 6.75\n",
      "The average rating of Clint Eastwood is 7.71\n",
      "Clint Eastwood has a higher average rating"
     ]
    }
   ],
   "source": []
  },
  {
   "cell_type": "markdown",
   "id": "c3fd460a-40ed-459c-b277-26f0e6800bc7",
   "metadata": {},
   "source": [
    "## 6) What is the movie(s) with the highest average rating among those in which Chris Evans has acted?\n",
    "\n",
    "Write your code in a way that it finds and displays all movies with the highest rating, even if there's more than one. "
   ]
  },
  {
   "cell_type": "code",
   "execution_count": 41,
   "id": "db779500-4492-4fb1-9ef9-818d44932ba3",
   "metadata": {
    "execution": {
     "iopub.execute_input": "2023-12-13T21:00:14.737635Z",
     "iopub.status.busy": "2023-12-13T21:00:14.737314Z",
     "iopub.status.idle": "2023-12-13T21:02:02.367018Z",
     "shell.execute_reply": "2023-12-13T21:02:02.363920Z",
     "shell.execute_reply.started": "2023-12-13T21:00:14.737608Z"
    }
   },
   "outputs": [
    {
     "data": {
      "application/vnd.jupyter.widget-view+json": {
       "model_id": "5265df14e3834fa1b07d17c7a138e749",
       "version_major": 2,
       "version_minor": 0
      },
      "text/plain": [
       "VBox()"
      ]
     },
     "metadata": {},
     "output_type": "display_data"
    },
    {
     "data": {
      "application/vnd.jupyter.widget-view+json": {
       "model_id": "",
       "version_major": 2,
       "version_minor": 0
      },
      "text/plain": [
       "FloatProgress(value=0.0, bar_style='info', description='Progress:', layout=Layout(height='25px', width='50%'),…"
      ]
     },
     "metadata": {},
     "output_type": "display_data"
    },
    {
     "name": "stdout",
     "output_type": "stream",
     "text": [
      "+----------------------+-------------+\n",
      "|primaryTitle          |averageRating|\n",
      "+----------------------+-------------+\n",
      "|Avengers: Infinity War|8.5          |\n",
      "|Avengers: Endgame     |8.5          |\n",
      "+----------------------+-------------+"
     ]
    }
   ],
   "source": [
    "# Filter for Chris Evans's ID\n",
    "chris_evans_id = namedf.filter(namedf.primaryName == \"Chris Evans\").select(\"nconst\").distinct()\n",
    "\n",
    "# Get titles where Chris Evans acted\n",
    "chris_evans_titles = titleprincdf.join(chris_evans_id, \"nconst\").select(\"tconst\")\n",
    "\n",
    "# Join with titledf to filter for movies and exclude '\\N' in startYear\n",
    "chris_evans_movies = chris_evans_titles.join(titledf.filter((col(\"titleType\") == \"movie\") & (col(\"startYear\") != r\"\\N\")), \"tconst\")\n",
    "\n",
    "# Join with titleratdf to get the ratings\n",
    "chris_evans_movies_with_ratings = chris_evans_movies.join(titleratdf, \"tconst\").select(\"primaryTitle\", \"averageRating\")\n",
    "\n",
    "# Find the highest average rating\n",
    "max_rating = chris_evans_movies_with_ratings.agg(max(\"averageRating\")).first()[0]\n",
    "\n",
    "# Filter for movies with the highest average rating\n",
    "top_chris_evans_movies = chris_evans_movies_with_ratings.filter(col(\"averageRating\") == max_rating)\n",
    "\n",
    "top_chris_evans_movies.show(truncate=False)"
   ]
  },
  {
   "cell_type": "code",
   "execution_count": 35,
   "id": "5202e408-58aa-45d9-88ac-4cca6d7a9d81",
   "metadata": {
    "execution": {
     "iopub.execute_input": "2023-11-02T20:55:51.392407Z",
     "iopub.status.busy": "2023-11-02T20:55:51.392238Z",
     "iopub.status.idle": "2023-11-02T20:57:16.940185Z",
     "shell.execute_reply": "2023-11-02T20:57:16.939401Z",
     "shell.execute_reply.started": "2023-11-02T20:55:51.392387Z"
    },
    "tags": []
   },
   "outputs": [
    {
     "data": {
      "application/vnd.jupyter.widget-view+json": {
       "model_id": "19f602fd41324f05a467ac876e21d388",
       "version_major": 2,
       "version_minor": 0
      },
      "text/plain": [
       "VBox()"
      ]
     },
     "metadata": {},
     "output_type": "display_data"
    },
    {
     "data": {
      "application/vnd.jupyter.widget-view+json": {
       "model_id": "",
       "version_major": 2,
       "version_minor": 0
      },
      "text/plain": [
       "FloatProgress(value=0.0, bar_style='info', description='Progress:', layout=Layout(height='25px', width='50%'),…"
      ]
     },
     "metadata": {},
     "output_type": "display_data"
    },
    {
     "name": "stdout",
     "output_type": "stream",
     "text": [
      "+----------------------+-------------+\n",
      "|primaryTitle          |averageRating|\n",
      "+----------------------+-------------+\n",
      "|Avengers: Infinity War|8.5          |\n",
      "|Avengers: Endgame     |8.5          |\n",
      "+----------------------+-------------+"
     ]
    }
   ],
   "source": []
  },
  {
   "cell_type": "markdown",
   "id": "c7086f55-9fa0-40ae-8116-e14ea042d402",
   "metadata": {},
   "source": [
    "## 7) What is the percentage of adult titles in which actors and actresses have acted?"
   ]
  },
  {
   "cell_type": "code",
   "execution_count": 44,
   "id": "d060e31f-4eff-4289-839f-c23b16f83913",
   "metadata": {
    "execution": {
     "iopub.execute_input": "2023-12-13T21:14:07.495834Z",
     "iopub.status.busy": "2023-12-13T21:14:07.495493Z",
     "iopub.status.idle": "2023-12-13T21:16:33.297370Z",
     "shell.execute_reply": "2023-12-13T21:16:33.296566Z",
     "shell.execute_reply.started": "2023-12-13T21:14:07.495805Z"
    }
   },
   "outputs": [
    {
     "data": {
      "application/vnd.jupyter.widget-view+json": {
       "model_id": "265170aa9f594511873da03437c94f36",
       "version_major": 2,
       "version_minor": 0
      },
      "text/plain": [
       "VBox()"
      ]
     },
     "metadata": {},
     "output_type": "display_data"
    },
    {
     "data": {
      "application/vnd.jupyter.widget-view+json": {
       "model_id": "",
       "version_major": 2,
       "version_minor": 0
      },
      "text/plain": [
       "FloatProgress(value=0.0, bar_style='info', description='Progress:', layout=Layout(height='25px', width='50%'),…"
      ]
     },
     "metadata": {},
     "output_type": "display_data"
    },
    {
     "name": "stdout",
     "output_type": "stream",
     "text": [
      "The percentage of adult titles actors have acted is: 3.00%\n",
      "The percentage of adult titles actresses have acted is: 7.18%"
     ]
    }
   ],
   "source": [
    "# Join two dataframes\n",
    "all_info = titledf.join(titleprincdf, \"tconst\")\n",
    "\n",
    "actors_temp = all_info.select('category', 'isAdult', 'primaryTitle')\\\n",
    "    .filter(col('category') == 'actor')\n",
    "actors_count = actors_temp.count()\n",
    "\n",
    "actress_temp = all_info.select('category', 'isAdult', 'primaryTitle')\\\n",
    "    .filter(col('category') == 'actress')\n",
    "actress_count = actress_temp.count()\n",
    "\n",
    "actors_adult = actors_temp.select('isAdult', 'primaryTitle')\\\n",
    "    .filter(col('isAdult') == '1')\\\n",
    "    .count()\n",
    "actress_adult = actress_temp.select('isAdult', 'primaryTitle')\\\n",
    "    .filter(col('isAdult') == '1')\\\n",
    "    .count()\n",
    "\n",
    "perc_actor = actors_adult/actors_count*100\n",
    "perc_actress = actress_adult/actress_count*100\n",
    "\n",
    "print(f'The percentage of adult titles actors have acted is: {perc_actor:.2f}%')\n",
    "print(f'The percentage of adult titles actresses have acted is: {perc_actress:.2f}%')"
   ]
  },
  {
   "cell_type": "code",
   "execution_count": 36,
   "id": "d4f96666-b6e2-473d-a566-be5001d7031a",
   "metadata": {
    "execution": {
     "iopub.execute_input": "2023-11-02T20:57:16.941365Z",
     "iopub.status.busy": "2023-11-02T20:57:16.941203Z",
     "iopub.status.idle": "2023-11-02T21:00:39.017599Z",
     "shell.execute_reply": "2023-11-02T21:00:39.016860Z",
     "shell.execute_reply.started": "2023-11-02T20:57:16.941346Z"
    },
    "tags": []
   },
   "outputs": [
    {
     "data": {
      "application/vnd.jupyter.widget-view+json": {
       "model_id": "6a1401ac6ff846119c83ed1bf8c46711",
       "version_major": 2,
       "version_minor": 0
      },
      "text/plain": [
       "VBox()"
      ]
     },
     "metadata": {},
     "output_type": "display_data"
    },
    {
     "data": {
      "application/vnd.jupyter.widget-view+json": {
       "model_id": "",
       "version_major": 2,
       "version_minor": 0
      },
      "text/plain": [
       "FloatProgress(value=0.0, bar_style='info', description='Progress:', layout=Layout(height='25px', width='50%'),…"
      ]
     },
     "metadata": {},
     "output_type": "display_data"
    },
    {
     "name": "stdout",
     "output_type": "stream",
     "text": [
      "The percentage of adult titles actors have acted is: 2.14%\n",
      "The percentage of adult titles actresses have acted is: 3.27%"
     ]
    }
   ],
   "source": []
  },
  {
   "cell_type": "markdown",
   "id": "08ea8545-0511-472e-b225-c3af64237cd5",
   "metadata": {},
   "source": [
    "## 8) What are the top 10 movie genres with the shortest average runtime?\n",
    "\n",
    "You do not need to join tables in this question."
   ]
  },
  {
   "cell_type": "code",
   "execution_count": 43,
   "id": "12436715-5785-4434-9445-56099962a993",
   "metadata": {
    "execution": {
     "iopub.execute_input": "2023-12-13T21:05:33.706814Z",
     "iopub.status.busy": "2023-12-13T21:05:33.706485Z",
     "iopub.status.idle": "2023-12-13T21:05:51.030167Z",
     "shell.execute_reply": "2023-12-13T21:05:51.029367Z",
     "shell.execute_reply.started": "2023-12-13T21:05:33.706788Z"
    },
    "tags": []
   },
   "outputs": [
    {
     "data": {
      "application/vnd.jupyter.widget-view+json": {
       "model_id": "cadad31a29a7485db8fbbab10604ec45",
       "version_major": 2,
       "version_minor": 0
      },
      "text/plain": [
       "VBox()"
      ]
     },
     "metadata": {},
     "output_type": "display_data"
    },
    {
     "data": {
      "application/vnd.jupyter.widget-view+json": {
       "model_id": "",
       "version_major": 2,
       "version_minor": 0
      },
      "text/plain": [
       "FloatProgress(value=0.0, bar_style='info', description='Progress:', layout=Layout(height='25px', width='50%'),…"
      ]
     },
     "metadata": {},
     "output_type": "display_data"
    },
    {
     "name": "stdout",
     "output_type": "stream",
     "text": [
      "+-----------+--------------+\n",
      "|      genre|averageRuntime|\n",
      "+-----------+--------------+\n",
      "|      Short|         18.67|\n",
      "|       News|         66.85|\n",
      "|Documentary|         72.68|\n",
      "| Reality-TV|         76.28|\n",
      "|      Adult|         77.18|\n",
      "|    Western|         79.36|\n",
      "|  Talk-Show|         79.43|\n",
      "|  Animation|         80.75|\n",
      "|  Biography|         81.05|\n",
      "|  Film-Noir|         83.76|\n",
      "+-----------+--------------+\n",
      "only showing top 10 rows"
     ]
    }
   ],
   "source": [
    "# Filter titledf for movies and valid runtimes\n",
    "movies_with_runtime = titledf.filter((col(\"titleType\") == \"movie\") & (col(\"runtimeMinutes\").cast(\"int\").isNotNull()))\n",
    "\n",
    "# Split the 'genres' column into individual genres and explode it into separate rows\n",
    "exploded_genres = movies_with_runtime.withColumn(\"genre\", explode(split(col(\"genres\"), \",\")))\n",
    "\n",
    "exploded_genres=exploded_genres.filter(col(\"genre\") != \"\\\\N\")\n",
    "\n",
    "# Calculate the average runtime for each genre\n",
    "average_runtime_per_genre = exploded_genres.groupBy(\"genre\").agg(round(avg(col(\"runtimeMinutes\").cast(\"int\")),2).alias(\"averageRuntime\"))\n",
    "\n",
    "# Sort by average runtime \n",
    "top_10_genres_shortest_runtime = average_runtime_per_genre.orderBy(\"averageRuntime\")\n",
    "\n",
    "top_10_genres_shortest_runtime.show(10)"
   ]
  },
  {
   "cell_type": "code",
   "execution_count": 37,
   "id": "067686da-7232-426a-a922-6ca7bca99ab1",
   "metadata": {
    "execution": {
     "iopub.execute_input": "2023-11-02T21:00:39.018738Z",
     "iopub.status.busy": "2023-11-02T21:00:39.018545Z",
     "iopub.status.idle": "2023-11-02T21:00:46.294844Z",
     "shell.execute_reply": "2023-11-02T21:00:46.294054Z",
     "shell.execute_reply.started": "2023-11-02T21:00:39.018716Z"
    },
    "tags": []
   },
   "outputs": [
    {
     "data": {
      "application/vnd.jupyter.widget-view+json": {
       "model_id": "18c5b132d1854f4886c3997d09b1b469",
       "version_major": 2,
       "version_minor": 0
      },
      "text/plain": [
       "VBox()"
      ]
     },
     "metadata": {},
     "output_type": "display_data"
    },
    {
     "data": {
      "application/vnd.jupyter.widget-view+json": {
       "model_id": "",
       "version_major": 2,
       "version_minor": 0
      },
      "text/plain": [
       "FloatProgress(value=0.0, bar_style='info', description='Progress:', layout=Layout(height='25px', width='50%'),…"
      ]
     },
     "metadata": {},
     "output_type": "display_data"
    },
    {
     "name": "stdout",
     "output_type": "stream",
     "text": [
      "+-----------+-------------------+\n",
      "|      genre|avg(runtimeMinutes)|\n",
      "+-----------+-------------------+\n",
      "|      Short|              18.67|\n",
      "|       News|              66.85|\n",
      "|Documentary|              72.68|\n",
      "| Reality-TV|              76.28|\n",
      "|      Adult|              77.18|\n",
      "|    Western|              79.36|\n",
      "|  Talk-Show|              79.43|\n",
      "|  Animation|              80.75|\n",
      "|  Biography|              81.05|\n",
      "|  Film-Noir|              83.76|\n",
      "+-----------+-------------------+\n",
      "only showing top 10 rows"
     ]
    }
   ],
   "source": []
  },
  {
   "cell_type": "markdown",
   "id": "867fc752-8ad8-41dd-a21d-bbae10f7295b",
   "metadata": {},
   "source": [
    "## 9) What are the most common character names for actors and actresses in Romance movies?"
   ]
  },
  {
   "cell_type": "code",
   "execution_count": 51,
   "id": "15f72b06-1990-4602-88e5-c1bf6921680e",
   "metadata": {
    "execution": {
     "iopub.execute_input": "2023-12-13T22:07:39.614716Z",
     "iopub.status.busy": "2023-12-13T22:07:39.614416Z",
     "iopub.status.idle": "2023-12-13T22:08:55.090903Z",
     "shell.execute_reply": "2023-12-13T22:08:55.090024Z",
     "shell.execute_reply.started": "2023-12-13T22:07:39.614690Z"
    },
    "tags": []
   },
   "outputs": [
    {
     "data": {
      "application/vnd.jupyter.widget-view+json": {
       "model_id": "979a48fd4a5d4bc2ba338776454a876b",
       "version_major": 2,
       "version_minor": 0
      },
      "text/plain": [
       "VBox()"
      ]
     },
     "metadata": {},
     "output_type": "display_data"
    },
    {
     "data": {
      "application/vnd.jupyter.widget-view+json": {
       "model_id": "",
       "version_major": 2,
       "version_minor": 0
      },
      "text/plain": [
       "FloatProgress(value=0.0, bar_style='info', description='Progress:', layout=Layout(height='25px', width='50%'),…"
      ]
     },
     "metadata": {},
     "output_type": "display_data"
    },
    {
     "name": "stdout",
     "output_type": "stream",
     "text": [
      "+--------+-----+---------+\n",
      "|category|count|character|\n",
      "+--------+-----+---------+\n",
      "| actress|  228| [\"Anna\"]|\n",
      "|   actor|  182|[\"David\"]|\n",
      "+--------+-----+---------+"
     ]
    }
   ],
   "source": [
    "# Filter for Romance movies\n",
    "romance_titles = titledf.filter(col(\"genres\").like(\"%Romance%\") & (col(\"titleType\") == \"movie\"))\n",
    "\n",
    "# Join with titleprincdf for actor and actress roles\n",
    "actor_roles = titleprincdf.join(romance_titles, \"tconst\").filter(col(\"category\") == \"actor\")\n",
    "actress_roles = titleprincdf.join(romance_titles, \"tconst\").filter(col(\"category\") == \"actress\")\n",
    "\n",
    "# Explode the characters column and clean up the names\n",
    "actor_roles_exploded = actor_roles.withColumn(\"character\", explode(split(col(\"characters\"), r\"\\s*,\\s*\"))).filter(col(\"character\") != \"\\\\N\")\n",
    "actress_roles_exploded = actress_roles.withColumn(\"character\", explode(split(col(\"characters\"), r\"\\s*,\\s*\"))).filter(col(\"character\") != \"\\\\N\")\n",
    "\n",
    "# Group by character name and count, then order by count and added category column\n",
    "top_actor = actor_roles_exploded.groupBy(\"character\").count().orderBy(col(\"count\").desc()).limit(1).withColumn(\"category\", lit(\"actor\"))\n",
    "top_actress = actress_roles_exploded.groupBy(\"character\").count().orderBy(col(\"count\").desc()).limit(1).withColumn(\"category\", lit(\"actress\"))\n",
    "\n",
    "# Union the top actor and actress results into one DataFrame\n",
    "top_characters = top_actress.union(top_actor).select(\"category\", \"count\", \"character\")\n",
    "\n",
    "top_characters.show()"
   ]
  },
  {
   "cell_type": "code",
   "execution_count": 38,
   "id": "c757d669-506b-413e-94e0-ee8908fe4327",
   "metadata": {
    "execution": {
     "iopub.execute_input": "2023-11-02T21:00:46.296083Z",
     "iopub.status.busy": "2023-11-02T21:00:46.295904Z",
     "iopub.status.idle": "2023-11-02T21:01:21.650020Z",
     "shell.execute_reply": "2023-11-02T21:01:21.649251Z",
     "shell.execute_reply.started": "2023-11-02T21:00:46.296061Z"
    },
    "tags": []
   },
   "outputs": [
    {
     "data": {
      "application/vnd.jupyter.widget-view+json": {
       "model_id": "e14d4bf028144180b88d87f409aeee7f",
       "version_major": 2,
       "version_minor": 0
      },
      "text/plain": [
       "VBox()"
      ]
     },
     "metadata": {},
     "output_type": "display_data"
    },
    {
     "data": {
      "application/vnd.jupyter.widget-view+json": {
       "model_id": "",
       "version_major": 2,
       "version_minor": 0
      },
      "text/plain": [
       "FloatProgress(value=0.0, bar_style='info', description='Progress:', layout=Layout(height='25px', width='50%'),…"
      ]
     },
     "metadata": {},
     "output_type": "display_data"
    },
    {
     "name": "stdout",
     "output_type": "stream",
     "text": [
      "+--------+-----+----------+\n",
      "|category|count|characters|\n",
      "+--------+-----+----------+\n",
      "| actress|  228|  [\"Anna\"]|\n",
      "|   actor|  182| [\"David\"]|\n",
      "+--------+-----+----------+"
     ]
    }
   ],
   "source": []
  }
 ],
 "metadata": {
  "kernelspec": {
   "display_name": "Python 3 (ipykernel)",
   "language": "python",
   "name": "python3"
  },
  "language_info": {
   "codemirror_mode": {
    "name": "ipython",
    "version": 3
   },
   "file_extension": ".py",
   "mimetype": "text/x-python",
   "name": "python",
   "nbconvert_exporter": "python",
   "pygments_lexer": "ipython3",
   "version": "3.11.4"
  }
 },
 "nbformat": 4,
 "nbformat_minor": 5
}
